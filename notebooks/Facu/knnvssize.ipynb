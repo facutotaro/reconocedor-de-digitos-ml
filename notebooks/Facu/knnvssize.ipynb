{
 "cells": [
  {
   "cell_type": "markdown",
   "metadata": {},
   "source": [
    "# Reconocimiento de dígitos con KNN\n",
    "\n",
    "Veamos como interactuar con las clases implementadas en el módulo de C++ haciendo una experimentación muy simplificada, y a modo de ejemplo, del método KNN para reconocer digitos"
   ]
  },
  {
   "cell_type": "markdown",
   "metadata": {},
   "source": [
    "## Compilando el módulo desde C++\n",
    "\n",
    "Definir los path al ejecutable de python 3.6 y sus librerías,\n",
    "de acuerdo al virtual env que estén corriendo."
   ]
  },
  {
   "cell_type": "code",
   "execution_count": 1,
   "metadata": {},
   "outputs": [
    {
     "name": "stdout",
     "output_type": "stream",
     "text": [
      "mkdir: cannot create directory ‘build’: File exists\n",
      "-- The C compiler identification is GNU 9.3.0\n",
      "-- The CXX compiler identification is GNU 9.3.0\n",
      "-- Check for working C compiler: /usr/bin/cc\n",
      "-- Check for working C compiler: /usr/bin/cc -- works\n",
      "-- Detecting C compiler ABI info\n",
      "-- Detecting C compiler ABI info - done\n",
      "-- Detecting C compile features\n",
      "-- Detecting C compile features - done\n",
      "-- Check for working CXX compiler: /usr/bin/c++\n",
      "-- Check for working CXX compiler: /usr/bin/c++ -- works\n",
      "-- Detecting CXX compiler ABI info\n",
      "-- Detecting CXX compiler ABI info - done\n",
      "-- Detecting CXX compile features\n",
      "-- Detecting CXX compile features - done\n",
      "Release mode\n",
      "-- Found PythonInterp: /home/facutotaro/.virtualenvs/tp/bin/python (found version \"3.8.10\") \n",
      "-- Found PythonLibs: /usr/lib/x86_64-linux-gnu/libpython3.8.so\n",
      "-- pybind11 v2.2.4\n",
      "-- Performing Test HAS_FLTO\n",
      "-- Performing Test HAS_FLTO - Success\n",
      "-- LTO enabled\n",
      "CMAKE_INSTALL_PREFIX=/home/facutotaro/machine/metnum_tp2\n",
      "-- Configuring done\n",
      "-- Generating done\n",
      "-- Build files have been written to: /home/facutotaro/machine/metnum_tp2/build\n",
      "\u001b[35m\u001b[1mScanning dependencies of target tp2\u001b[0m\n",
      "[ 10%] \u001b[32mBuilding CXX object CMakeFiles/tp2.dir/src/main.cpp.o\u001b[0m\n",
      "[ 20%] \u001b[32mBuilding CXX object CMakeFiles/tp2.dir/src/knn.cpp.o\u001b[0m\n",
      "[ 30%] \u001b[32mBuilding CXX object CMakeFiles/tp2.dir/src/pca.cpp.o\u001b[0m\n",
      "[ 40%] \u001b[32mBuilding CXX object CMakeFiles/tp2.dir/src/eigen.cpp.o\u001b[0m\n",
      "[ 50%] \u001b[32m\u001b[1mLinking CXX executable tp2\u001b[0m\n",
      "[ 50%] Built target tp2\n",
      "\u001b[35m\u001b[1mScanning dependencies of target metnum\u001b[0m\n",
      "[ 60%] \u001b[32mBuilding CXX object CMakeFiles/metnum.dir/src/metnum.cpp.o\u001b[0m\n",
      "[ 70%] \u001b[32mBuilding CXX object CMakeFiles/metnum.dir/src/knn.cpp.o\u001b[0m\n",
      "[ 80%] \u001b[32mBuilding CXX object CMakeFiles/metnum.dir/src/pca.cpp.o\u001b[0m\n",
      "[ 90%] \u001b[32mBuilding CXX object CMakeFiles/metnum.dir/src/eigen.cpp.o\u001b[0m\n",
      "[100%] \u001b[32m\u001b[1mLinking CXX shared module metnum.cpython-38-x86_64-linux-gnu.so\u001b[0m\n",
      "[100%] Built target metnum\n",
      "\u001b[36mInstall the project...\u001b[0m\n",
      "-- Install configuration: \"Release\"\n",
      "-- Installing: /home/facutotaro/machine/metnum_tp2/notebooks/metnum.cpython-38-x86_64-linux-gnu.so\n"
     ]
    }
   ],
   "source": [
    "!cd ../.. && mkdir build\n",
    "!cd ../../build/ && rm -rf *\n",
    "!cd ../../build && cmake \\\n",
    "  -DPYTHON_EXECUTABLE=\"$(which python)\" \\\n",
    "  -DCMAKE_BUILD_TYPE=Release ..\n",
    "!cd ../../build && make install"
   ]
  },
  {
   "cell_type": "code",
   "execution_count": 2,
   "metadata": {},
   "outputs": [
    {
     "name": "stdout",
     "output_type": "stream",
     "text": [
      "/home/facutotaro/machine/metnum_tp2/notebooks/Facu\n",
      "Python 3.8.10\n"
     ]
    }
   ],
   "source": [
    "# Verifico la correcta instalación. Si no falla el import está OK\n",
    "!pwd\n",
    "!python --version\n",
    "\n",
    "import sys\n",
    "import os\n",
    "\n",
    "p = os.path.abspath('../')\n",
    "sys.path.insert(1, p)\n",
    "\n",
    "import metnum"
   ]
  },
  {
   "cell_type": "markdown",
   "metadata": {},
   "source": [
    "## Explorando los datos"
   ]
  },
  {
   "cell_type": "code",
   "execution_count": 3,
   "metadata": {},
   "outputs": [],
   "source": [
    "%load_ext autoreload\n",
    "%autoreload 2\n",
    "\n",
    "import pandas as pd\n",
    "\n",
    "df_train = pd.read_csv(\"../../data/train.csv\")\n",
    "\n",
    "df_train = df_train.sample(frac = 1)\n",
    "\n",
    "X = df_train[df_train.columns[1:]].values\n",
    "y = df_train[\"label\"].values.reshape(-1, 1)\n"
   ]
  },
  {
   "cell_type": "code",
   "execution_count": 4,
   "metadata": {},
   "outputs": [
    {
     "name": "stdout",
     "output_type": "stream",
     "text": [
      "42000\n"
     ]
    }
   ],
   "source": [
    "print(len(X))"
   ]
  },
  {
   "cell_type": "markdown",
   "metadata": {},
   "source": [
    "Es un csv, con columnas por cada pixel"
   ]
  },
  {
   "cell_type": "markdown",
   "metadata": {},
   "source": [
    "### Reducir el dataset\n",
    "\n",
    "Ya que el dataset es grande, me quedo con una porción de éste\n",
    "\n",
    "**<font color=red>ESTO ES SOLO PARA HACER PRUEBAS. CUANDO REPORTEN LOS RESULTADOS, USAR DATASET COMPLETO</font>**"
   ]
  },
  {
   "cell_type": "markdown",
   "metadata": {},
   "source": [
    "En el primer caracter está el dígito a reconocer. Llamamos a esto `y_train`"
   ]
  },
  {
   "cell_type": "code",
   "execution_count": 5,
   "metadata": {},
   "outputs": [
    {
     "data": {
      "text/plain": [
       "((42000, 784), (42000, 1))"
      ]
     },
     "execution_count": 5,
     "metadata": {},
     "output_type": "execute_result"
    }
   ],
   "source": [
    "# Uso values para mandar todo a arrays de numpy\n",
    "X = df_train[df_train.columns[1:]].values\n",
    "y = df_train[\"label\"].values.reshape(-1, 1)\n",
    "\n",
    "X.shape, y.shape"
   ]
  },
  {
   "cell_type": "markdown",
   "metadata": {},
   "source": [
    "Convierto el resto a matrices de 28 x 28"
   ]
  },
  {
   "cell_type": "markdown",
   "metadata": {},
   "source": [
    "A ver cómo se ven..."
   ]
  },
  {
   "cell_type": "code",
   "execution_count": 6,
   "metadata": {},
   "outputs": [
    {
     "name": "stdout",
     "output_type": "stream",
     "text": [
      "Supuestamente es un 9\n"
     ]
    },
    {
     "data": {
      "text/plain": [
       "<matplotlib.image.AxesImage at 0x7f3b2ff78100>"
      ]
     },
     "execution_count": 6,
     "metadata": {},
     "output_type": "execute_result"
    },
    {
     "data": {
      "image/png": "[encoded data removed]",
      "text/plain": [
       "<Figure size 432x288 with 1 Axes>"
      ]
     },
     "metadata": {
      "needs_background": "light"
     },
     "output_type": "display_data"
    }
   ],
   "source": [
    "import matplotlib.pyplot as plt\n",
    "\n",
    "num = 4\n",
    "\n",
    "print(f\"Supuestamente es un {int(y[num])}\")\n",
    "\n",
    "img = X[num].reshape(28, 28)\n",
    "plt.imshow(img, cmap=\"Greys\")\n"
   ]
  },
  {
   "cell_type": "markdown",
   "metadata": {},
   "source": [
    "### Balance de clases\n",
    "\n",
    "¿Tenemos la misma cantidad de cada número?"
   ]
  },
  {
   "cell_type": "code",
   "execution_count": 7,
   "metadata": {},
   "outputs": [
    {
     "data": {
      "text/plain": [
       "1    0.111524\n",
       "7    0.104786\n",
       "3    0.103595\n",
       "9    0.099714\n",
       "2    0.099452\n",
       "6    0.098500\n",
       "0    0.098381\n",
       "4    0.096952\n",
       "8    0.096738\n",
       "5    0.090357\n",
       "Name: label, dtype: float64"
      ]
     },
     "execution_count": 7,
     "metadata": {},
     "output_type": "execute_result"
    }
   ],
   "source": [
    "df_train[\"label\"].value_counts(normalize=True)"
   ]
  },
  {
   "cell_type": "markdown",
   "metadata": {},
   "source": [
    "No: tenemos más 1 que 5, pero tampoco está tan desbalanceado"
   ]
  },
  {
   "cell_type": "markdown",
   "metadata": {},
   "source": [
    "### Conjunto de development"
   ]
  },
  {
   "cell_type": "code",
   "execution_count": 8,
   "metadata": {},
   "outputs": [],
   "source": [
    "import csv\n",
    "from sklearn.metrics import accuracy_score\n",
    "from sklearn.metrics import precision_score\n",
    "from sklearn.metrics import recall_score\n",
    "import time\n",
    "\n",
    "# Creo una clase\n",
    "class attributes: \n",
    "    def __init__(self, number, neighbours, percentage, acc, prec, rec, t): \n",
    "        self.number = number\n",
    "        self.neighbours = neighbours\n",
    "        self.percentage = percentage\n",
    "        self.acc = acc\n",
    "        self.prec = prec\n",
    "        self.rec = rec\n",
    "        self.time = t\n",
    "   \n",
    "\n",
    "\n",
    "def createObject(X_train, y_train,X_val, y_val,p,v,n,lista, t1):\n",
    "        \n",
    "        start2 = time.time()\n",
    "        clf = metnum.KNNClassifier(v)\n",
    "        clf.fit(X_train, y_train)\n",
    "        y_pred = clf.predict(X_val)\n",
    "        finish2 = time.time()\n",
    "        t2 = finish2-start2\n",
    "        acc = accuracy_score(y_val, y_pred)\n",
    "        #print(\"Accuracy: {}\".format(acc))\n",
    "        prec = precision_score(y_val, y_pred, average='macro')\n",
    "        #print(\"Precision: {}\".format(prec))\n",
    "        rec = recall_score(y_val, y_pred, average='macro')\n",
    "        #print(\"Recall: {}\".format(rec))\n",
    "        #print(\"Aber: \" + str(t1+t2))\n",
    "        lista.append(attributes(n,v,p,acc,prec,rec, t1+t2))\n",
    "        \n",
    "\n",
    "\n",
    "def experiment(per_b, per_i, nei_b, nei_i):\n",
    "    print(\"Comenzando...\")\n",
    "    list = []\n",
    "    number = 0\n",
    "    total = 0\n",
    "    \n",
    "    \n",
    "    for v1 in range(per_b,100,per_i):\n",
    "        for v2 in range(nei_b,100,nei_i):\n",
    "            total += 1\n",
    "    for v1 in range(per_b,100,per_i):\n",
    "        print(\"Calculando PCA para \"+str(v1)+\"%\")\n",
    "        start1 = time.time()\n",
    "        limit = int(v1/100 * X.shape[0])\n",
    "        X_train, y_train = X[:limit], y[:limit]\n",
    "        X_val, y_val = X[limit:], y[limit:]\n",
    "        pca = metnum.PCA(40)\n",
    "        startp1 = time.time()\n",
    "        pca.fit(X_train)\n",
    "        startp2 = time.time()\n",
    "        X_train = pca.transform(X_train)\n",
    "        startp3 = time.time()\n",
    "        X_val = pca.transform(X_val)\n",
    "        startp4 = time.time()\n",
    "        t1p = startp2 - startp1\n",
    "        t2p = startp3 - startp2\n",
    "        t3p = startp4 - startp3\n",
    "        t23p = startp4 - startp2 \n",
    "        print(\"Train: \" + str(t1p))\n",
    "        print(\"Transform entrenamiento: \" + str(t2p))\n",
    "        print(\"Transform validacion: \" + str(t3p))\n",
    "        print(\"Transform total: \" + str(t23p))\n",
    "        assert len(X_train) == len(y_train)\n",
    "        assert len(X_val) == len(y_val)\n",
    "        finish1 = time.time()\n",
    "        t1 = finish1-start1\n",
    "        for v2 in range(nei_b,100,nei_i):\n",
    "            print(\"Con \" + str(v1) +\"% y \" + str(v2) + \" vecinos\")\n",
    "            createObject(X_train, y_train,X_val, y_val,v1,v2,number,list,t1)\n",
    "            number += 1\n",
    "            print(\"Iteracion \" + str(number) + '/' + str(total) + \"(\" + str(number/total*100) + \"%)\")\n",
    "            \n",
    "    exportcsv(list,per_b, per_i, nei_b, nei_i)\n",
    "\n",
    "  \n",
    "\n",
    "\n",
    "\n",
    "def exportcsv(list,per_b, per_i, nei_b, nei_i):\n",
    "    csv_file = str(per_b) + \"-\" + str(per_i) + \"-\" + str(nei_b) + \"-\" + str(nei_i) + \"t.csv\"\n",
    "    try:\n",
    "        with open(csv_file, 'w') as csvfile:\n",
    "            writer = csv.writer(csvfile)\n",
    "            writer.writerow(['Numero','Vecinos','Porcentaje','Accuracy','Precision','Recall','Time'])\n",
    "            for data in list:\n",
    "                writer.writerow([data.number,data.neighbours,data.percentage,data.acc,data.prec,data.rec,data.time])\n",
    "    except IOError:\n",
    "        print(\"I/O error\")\n",
    "  \n"
   ]
  },
  {
   "cell_type": "code",
   "execution_count": 9,
   "metadata": {},
   "outputs": [],
   "source": [
    "#%%time\n",
    "#experiment(1,2,1,2)"
   ]
  },
  {
   "cell_type": "code",
   "execution_count": 10,
   "metadata": {},
   "outputs": [],
   "source": [
    "#experiment(10,10,51,50)"
   ]
  },
  {
   "cell_type": "code",
   "execution_count": 11,
   "metadata": {},
   "outputs": [],
   "source": [
    "with open(\"accuracy.csv\",\"r\") as f:\n",
    "\n",
    "\ttxt = f.read()\n",
    "\n",
    "txt = txt.replace(\",\",\".\")\n",
    "\n",
    "with open(\"accuracy.csv\",\"w\") as f:\n",
    "\n",
    "\tf.write(txt)"
   ]
  },
  {
   "cell_type": "code",
   "execution_count": 12,
   "metadata": {},
   "outputs": [
    {
     "data": {
      "image/png": "[encoded data removed]",
      "text/plain": [
       "<Figure size 1080x648 with 2 Axes>"
      ]
     },
     "metadata": {
      "needs_background": "light"
     },
     "output_type": "display_data"
    }
   ],
   "source": [
    "import pandas as pd\n",
    "import matplotlib.pyplot as plt\n",
    "import numpy as np\n",
    "\n",
    "# Lee contenido csv\n",
    "csv_name = \"accuracy.csv\" # csv file name\n",
    "# crea un dataframe (df) a partir del archivo\n",
    "# el csv accuracy.csv esta separa por espacios => sep = \" \"\n",
    "df = pd.read_csv(csv_name, sep = \" \", dtype = float)\n",
    "\n",
    "# Transformo a numpy arrays\n",
    "# arreglo de arreglos numpy \n",
    "# con mismo orden que el contenido del csv\n",
    "# sin indice de columna o fila\n",
    "np_matrix = df.iloc[:,1:].to_numpy()\n",
    "# nombres de filas (indices)\n",
    "yticks = df[\"Vecinos vs porcentaje\"].to_numpy()\n",
    "# nombres de columnas\n",
    "xticks = df.columns[1:].to_numpy()\n",
    "\n",
    "plt.figure(figsize = (15,9))\n",
    "\n",
    "plt.imshow(np_matrix, cmap = \"plasma\")\n",
    "plt.colorbar()\n",
    "plt.yticks(ticks = np.arange(len(yticks))+0.5, \n",
    "\t       labels = list(map(lambda x: str(x), yticks)),\n",
    "\t       fontsize = 5)\n",
    "plt.xticks(ticks = np.arange(len(xticks))+0.5, \n",
    "\t       labels = list(map(lambda x: str(x), xticks)),\n",
    "\t       fontsize = 5)\n",
    "plt.title(\"Accuracy\", \n",
    "\t      fontsize = 18)\n",
    "plt.ylabel(\"Vecinos\", fontsize = 15)\n",
    "plt.xlabel(\"Porcentaje(%)\", fontsize = 15)\n",
    "plt.show()\n"
   ]
  }
 ],
 "metadata": {
  "kernelspec": {
   "display_name": "Python 3 (ipykernel)",
   "language": "python",
   "name": "python3"
  },
  "language_info": {
   "codemirror_mode": {
    "name": "ipython",
    "version": 3
   },
   "file_extension": ".py",
   "mimetype": "text/x-python",
   "name": "python",
   "nbconvert_exporter": "python",
   "pygments_lexer": "ipython3",
   "version": "3.8.10"
  }
 },
 "nbformat": 4,
 "nbformat_minor": 2
}
