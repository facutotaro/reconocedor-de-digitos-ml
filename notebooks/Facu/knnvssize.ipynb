{
 "cells": [
  {
   "cell_type": "markdown",
   "metadata": {},
   "source": [
    "# Reconocimiento de dígitos con KNN\n",
    "\n",
    "Veamos como interactuar con las clases implementadas en el módulo de C++ haciendo una experimentación muy simplificada, y a modo de ejemplo, del método KNN para reconocer digitos"
   ]
  },
  {
   "cell_type": "markdown",
   "metadata": {},
   "source": [
    "## Compilando el módulo desde C++\n",
    "\n",
    "Definir los path al ejecutable de python 3.6 y sus librerías,\n",
    "de acuerdo al virtual env que estén corriendo."
   ]
  },
  {
   "cell_type": "code",
   "execution_count": 1,
   "metadata": {},
   "outputs": [
    {
     "name": "stdout",
     "output_type": "stream",
     "text": [
      "mkdir: cannot create directory ‘build’: File exists\n",
      "-- The C compiler identification is GNU 9.3.0\n",
      "-- The CXX compiler identification is GNU 9.3.0\n",
      "-- Check for working C compiler: /usr/bin/cc\n",
      "-- Check for working C compiler: /usr/bin/cc -- works\n",
      "-- Detecting C compiler ABI info\n",
      "-- Detecting C compiler ABI info - done\n",
      "-- Detecting C compile features\n",
      "-- Detecting C compile features - done\n",
      "-- Check for working CXX compiler: /usr/bin/c++\n",
      "-- Check for working CXX compiler: /usr/bin/c++ -- works\n",
      "-- Detecting CXX compiler ABI info\n",
      "-- Detecting CXX compiler ABI info - done\n",
      "-- Detecting CXX compile features\n",
      "-- Detecting CXX compile features - done\n",
      "Release mode\n",
      "-- Found PythonInterp: /home/facutotaro/.virtualenvs/tp/bin/python (found version \"3.8.10\") \n",
      "-- Found PythonLibs: /usr/lib/x86_64-linux-gnu/libpython3.8.so\n",
      "-- pybind11 v2.2.4\n",
      "-- Performing Test HAS_FLTO\n",
      "-- Performing Test HAS_FLTO - Success\n",
      "-- LTO enabled\n",
      "CMAKE_INSTALL_PREFIX=/home/facutotaro/machine/metnum_tp2\n",
      "-- Configuring done\n",
      "-- Generating done\n",
      "-- Build files have been written to: /home/facutotaro/machine/metnum_tp2/build\n",
      "\u001b[35m\u001b[1mScanning dependencies of target tp2\u001b[0m\n",
      "[ 10%] \u001b[32mBuilding CXX object CMakeFiles/tp2.dir/src/main.cpp.o\u001b[0m\n",
      "[ 20%] \u001b[32mBuilding CXX object CMakeFiles/tp2.dir/src/knn.cpp.o\u001b[0m\n",
      "[ 30%] \u001b[32mBuilding CXX object CMakeFiles/tp2.dir/src/pca.cpp.o\u001b[0m\n",
      "[ 40%] \u001b[32mBuilding CXX object CMakeFiles/tp2.dir/src/eigen.cpp.o\u001b[0m\n",
      "[ 50%] \u001b[32m\u001b[1mLinking CXX executable tp2\u001b[0m\n",
      "[ 50%] Built target tp2\n",
      "\u001b[35m\u001b[1mScanning dependencies of target metnum\u001b[0m\n",
      "[ 60%] \u001b[32mBuilding CXX object CMakeFiles/metnum.dir/src/metnum.cpp.o\u001b[0m\n",
      "[ 70%] \u001b[32mBuilding CXX object CMakeFiles/metnum.dir/src/knn.cpp.o\u001b[0m\n",
      "[ 80%] \u001b[32mBuilding CXX object CMakeFiles/metnum.dir/src/pca.cpp.o\u001b[0m\n",
      "[ 90%] \u001b[32mBuilding CXX object CMakeFiles/metnum.dir/src/eigen.cpp.o\u001b[0m\n",
      "[100%] \u001b[32m\u001b[1mLinking CXX shared module metnum.cpython-38-x86_64-linux-gnu.so\u001b[0m\n",
      "[100%] Built target metnum\n",
      "\u001b[36mInstall the project...\u001b[0m\n",
      "-- Install configuration: \"Release\"\n",
      "-- Installing: /home/facutotaro/machine/metnum_tp2/notebooks/metnum.cpython-38-x86_64-linux-gnu.so\n"
     ]
    }
   ],
   "source": [
    "!cd ../.. && mkdir build\n",
    "!cd ../../build/ && rm -rf *\n",
    "!cd ../../build && cmake \\\n",
    "  -DPYTHON_EXECUTABLE=\"$(which python)\" \\\n",
    "  -DCMAKE_BUILD_TYPE=Release ..\n",
    "!cd ../../build && make install"
   ]
  },
  {
   "cell_type": "code",
   "execution_count": 2,
   "metadata": {},
   "outputs": [
    {
     "name": "stdout",
     "output_type": "stream",
     "text": [
      "/home/facutotaro/machine/metnum_tp2/notebooks/Facu\n",
      "Python 3.8.10\n"
     ]
    }
   ],
   "source": [
    "# Verifico la correcta instalación. Si no falla el import está OK\n",
    "!pwd\n",
    "!python --version\n",
    "\n",
    "import sys\n",
    "import os\n",
    "\n",
    "p = os.path.abspath('../')\n",
    "sys.path.insert(1, p)\n",
    "\n",
    "import metnum"
   ]
  },
  {
   "cell_type": "markdown",
   "metadata": {},
   "source": [
    "## Explorando los datos"
   ]
  },
  {
   "cell_type": "code",
   "execution_count": 3,
   "metadata": {},
   "outputs": [],
   "source": [
    "%load_ext autoreload\n",
    "%autoreload 2\n",
    "\n",
    "import pandas as pd\n",
    "\n",
    "df_train = pd.read_csv(\"../../data/train.csv\")\n",
    "\n",
    "df_train = df_train.sample(frac = 1)\n",
    "\n",
    "X = df_train[df_train.columns[1:]].values\n",
    "y = df_train[\"label\"].values.reshape(-1, 1)\n"
   ]
  },
  {
   "cell_type": "code",
   "execution_count": 4,
   "metadata": {},
   "outputs": [
    {
     "name": "stdout",
     "output_type": "stream",
     "text": [
      "42000\n"
     ]
    }
   ],
   "source": [
    "print(len(X))"
   ]
  },
  {
   "cell_type": "markdown",
   "metadata": {},
   "source": [
    "Es un csv, con columnas por cada pixel"
   ]
  },
  {
   "cell_type": "markdown",
   "metadata": {},
   "source": [
    "### Reducir el dataset\n",
    "\n",
    "Ya que el dataset es grande, me quedo con una porción de éste\n",
    "\n",
    "**<font color=red>ESTO ES SOLO PARA HACER PRUEBAS. CUANDO REPORTEN LOS RESULTADOS, USAR DATASET COMPLETO</font>**"
   ]
  },
  {
   "cell_type": "markdown",
   "metadata": {},
   "source": [
    "En el primer caracter está el dígito a reconocer. Llamamos a esto `y_train`"
   ]
  },
  {
   "cell_type": "code",
   "execution_count": 5,
   "metadata": {},
   "outputs": [
    {
     "data": {
      "text/plain": [
       "((42000, 784), (42000, 1))"
      ]
     },
     "execution_count": 5,
     "metadata": {},
     "output_type": "execute_result"
    }
   ],
   "source": [
    "# Uso values para mandar todo a arrays de numpy\n",
    "X = df_train[df_train.columns[1:]].values\n",
    "y = df_train[\"label\"].values.reshape(-1, 1)\n",
    "\n",
    "X.shape, y.shape"
   ]
  },
  {
   "cell_type": "markdown",
   "metadata": {},
   "source": [
    "Convierto el resto a matrices de 28 x 28"
   ]
  },
  {
   "cell_type": "markdown",
   "metadata": {},
   "source": [
    "A ver cómo se ven..."
   ]
  },
  {
   "cell_type": "code",
   "execution_count": 6,
   "metadata": {},
   "outputs": [
    {
     "name": "stdout",
     "output_type": "stream",
     "text": [
      "Supuestamente es un 7\n"
     ]
    },
    {
     "data": {
      "text/plain": [
       "<matplotlib.image.AxesImage at 0x7f9785ba8100>"
      ]
     },
     "execution_count": 6,
     "metadata": {},
     "output_type": "execute_result"
    },
    {
     "data": {
      "image/png": "[encoded data removed]",
      "text/plain": [
       "<Figure size 432x288 with 1 Axes>"
      ]
     },
     "metadata": {
      "needs_background": "light"
     },
     "output_type": "display_data"
    }
   ],
   "source": [
    "import matplotlib.pyplot as plt\n",
    "\n",
    "num = 4\n",
    "\n",
    "print(f\"Supuestamente es un {int(y[num])}\")\n",
    "\n",
    "img = X[num].reshape(28, 28)\n",
    "plt.imshow(img, cmap=\"Greys\")\n"
   ]
  },
  {
   "cell_type": "markdown",
   "metadata": {},
   "source": [
    "### Balance de clases\n",
    "\n",
    "¿Tenemos la misma cantidad de cada número?"
   ]
  },
  {
   "cell_type": "code",
   "execution_count": 7,
   "metadata": {},
   "outputs": [
    {
     "data": {
      "text/plain": [
       "1    0.111524\n",
       "7    0.104786\n",
       "3    0.103595\n",
       "9    0.099714\n",
       "2    0.099452\n",
       "6    0.098500\n",
       "0    0.098381\n",
       "4    0.096952\n",
       "8    0.096738\n",
       "5    0.090357\n",
       "Name: label, dtype: float64"
      ]
     },
     "execution_count": 7,
     "metadata": {},
     "output_type": "execute_result"
    }
   ],
   "source": [
    "df_train[\"label\"].value_counts(normalize=True)"
   ]
  },
  {
   "cell_type": "markdown",
   "metadata": {},
   "source": [
    "No: tenemos más 1 que 5, pero tampoco está tan desbalanceado"
   ]
  },
  {
   "cell_type": "markdown",
   "metadata": {},
   "source": [
    "### Conjunto de development"
   ]
  },
  {
   "cell_type": "code",
   "execution_count": 8,
   "metadata": {},
   "outputs": [],
   "source": [
    "import csv\n",
    "from sklearn.metrics import accuracy_score\n",
    "from sklearn.metrics import precision_score\n",
    "from sklearn.metrics import recall_score\n",
    "import time\n",
    "\n",
    "# Creo una clase\n",
    "class attributes: \n",
    "    def __init__(self, number, neighbours, percentage, acc, prec, rec, t): \n",
    "        self.number = number\n",
    "        self.neighbours = neighbours\n",
    "        self.percentage = percentage\n",
    "        self.acc = acc\n",
    "        self.prec = prec\n",
    "        self.rec = rec\n",
    "        self.time = t\n",
    "   \n",
    "\n",
    "\n",
    "def createObject(X_train, y_train,X_val, y_val,p,v,n,lista, t1):\n",
    "        \n",
    "        start2 = time.time()\n",
    "        clf = metnum.KNNClassifier(v)\n",
    "        clf.fit(X_train, y_train)\n",
    "        y_pred = clf.predict(X_val)\n",
    "        finish2 = time.time()\n",
    "        t2 = finish2-start2\n",
    "        acc = accuracy_score(y_val, y_pred)\n",
    "        print(\"Accuracy: {}\".format(acc))\n",
    "        prec = precision_score(y_val, y_pred, average='macro')\n",
    "        print(\"Precision: {}\".format(prec))\n",
    "        rec = recall_score(y_val, y_pred, average='macro')\n",
    "        print(\"Recall: {}\".format(rec))\n",
    "        print(\"Aber: \" + str(t1+t2))\n",
    "        lista.append(attributes(n,v,p,acc,prec,rec, t1+t2))\n",
    "        \n",
    "\n",
    "\n",
    "def experiment(per_b, per_i, nei_b, nei_i):\n",
    "    print(\"Comenzando...\")\n",
    "    list = []\n",
    "    number = 0\n",
    "    total = 0\n",
    "    \n",
    "    \n",
    "    for v1 in range(per_b,100,per_i):\n",
    "        for v2 in range(nei_b,100,nei_i):\n",
    "            total += 1\n",
    "    for v1 in range(per_b,100,per_i):\n",
    "        print(\"Calculando PCA para \"+str(v1)+\"%\")\n",
    "        start1 = time.time()\n",
    "        limit = int(v1/100 * X.shape[0])\n",
    "        X_train, y_train = X[:limit], y[:limit]\n",
    "        X_val, y_val = X[limit:], y[limit:]\n",
    "        pca = metnum.PCA(40)\n",
    "        pca.fit(X_train)  \n",
    "        X_train = pca.transform(X_train)\n",
    "        X_val = pca.transform(X_val)\n",
    "        assert len(X_train) == len(y_train)\n",
    "        assert len(X_val) == len(y_val)\n",
    "        finish1 = time.time()\n",
    "        t1 = finish1-start1\n",
    "        for v2 in range(nei_b,100,nei_i):\n",
    "            print(\"Con \" + str(v1) +\"% y \" + str(v2) + \" vecinos\")\n",
    "            createObject(X_train, y_train,X_val, y_val,v1,v2,number,list,t1)\n",
    "            number += 1\n",
    "            print(\"Iteracion \" + str(number) + '/' + str(total) + \"(\" + str(number/total*100) + \"%)\")\n",
    "            \n",
    "    exportcsv(list,per_b, per_i, nei_b, nei_i)\n",
    "\n",
    "  \n",
    "\n",
    "\n",
    "\n",
    "def exportcsv(list,per_b, per_i, nei_b, nei_i):\n",
    "    csv_file = str(per_b) + \"-\" + str(per_i) + \"-\" + str(nei_b) + \"-\" + str(nei_i) + \"t.csv\"\n",
    "    try:\n",
    "        with open(csv_file, 'w') as csvfile:\n",
    "            writer = csv.writer(csvfile)\n",
    "            writer.writerow(['Numero','Vecinos','Porcentaje','Accuracy','Precision','Recall','Time'])\n",
    "            for data in list:\n",
    "                writer.writerow([data.number,data.neighbours,data.percentage,data.acc,data.prec,data.rec,data.time])\n",
    "    except IOError:\n",
    "        print(\"I/O error\")\n",
    "  \n"
   ]
  },
  {
   "cell_type": "code",
   "execution_count": 9,
   "metadata": {},
   "outputs": [],
   "source": [
    "%%time\n",
    "experiment(1,2,1,2)"
   ]
  },
  {
   "cell_type": "code",
   "execution_count": 10,
   "metadata": {},
   "outputs": [
    {
     "name": "stdout",
     "output_type": "stream",
     "text": [
      "Comenzando...\n",
      "Calculando PCA para 25%\n",
      "Con 25% y 25 vecinos\n",
      "Accuracy: 0.9222539682539682\n",
      "Precision: 0.9225768388377963\n",
      "Recall: 0.9215350471639588\n",
      "Aber: 17.119433641433716\n",
      "Iteracion 1/9(11.11111111111111%)\n",
      "Con 25% y 50 vecinos\n",
      "Accuracy: 0.9076825396825396\n",
      "Precision: 0.9086256114974105\n",
      "Recall: 0.9067557088479908\n",
      "Aber: 17.089037895202637\n",
      "Iteracion 2/9(22.22222222222222%)\n",
      "Con 25% y 75 vecinos\n",
      "Accuracy: 0.8964126984126984\n",
      "Precision: 0.8978130887127287\n",
      "Recall: 0.8952638485792482\n",
      "Aber: 17.29094910621643\n",
      "Iteracion 3/9(33.33333333333333%)\n",
      "Calculando PCA para 50%\n",
      "Con 50% y 25 vecinos\n",
      "Accuracy: 0.9357142857142857\n",
      "Precision: 0.9356010989501835\n",
      "Recall: 0.9352172168854306\n",
      "Aber: 24.499964475631714\n",
      "Iteracion 4/9(44.44444444444444%)\n",
      "Con 50% y 50 vecinos\n",
      "Accuracy: 0.9253333333333333\n",
      "Precision: 0.9255315935744995\n",
      "Recall: 0.9246144325007035\n",
      "Aber: 24.477437019348145\n",
      "Iteracion 5/9(55.55555555555556%)\n",
      "Con 50% y 75 vecinos\n",
      "Accuracy: 0.9174761904761904\n",
      "Precision: 0.9179346872972601\n",
      "Recall: 0.9165993462665339\n",
      "Aber: 24.69182014465332\n",
      "Iteracion 6/9(66.66666666666666%)\n",
      "Calculando PCA para 75%\n",
      "Con 75% y 25 vecinos\n",
      "Accuracy: 0.9443809523809524\n",
      "Precision: 0.9443055276526164\n",
      "Recall: 0.9440343928796769\n",
      "Aber: 21.621684789657593\n",
      "Iteracion 7/9(77.77777777777779%)\n",
      "Con 75% y 50 vecinos\n",
      "Accuracy: 0.9347619047619048\n",
      "Precision: 0.9349715857330627\n",
      "Recall: 0.9342814767739279\n",
      "Aber: 21.26558232307434\n",
      "Iteracion 8/9(88.88888888888889%)\n",
      "Con 75% y 75 vecinos\n",
      "Accuracy: 0.928952380952381\n",
      "Precision: 0.9293443507926604\n",
      "Recall: 0.9282593136128285\n",
      "Aber: 21.447985887527466\n",
      "Iteracion 9/9(100.0%)\n",
      "CPU times: user 2min 27s, sys: 3.27 s, total: 2min 31s\n",
      "Wall time: 2min 39s\n"
     ]
    }
   ],
   "source": []
  }
 ],
 "metadata": {
  "kernelspec": {
   "display_name": "Python 3 (ipykernel)",
   "language": "python",
   "name": "python3"
  },
  "language_info": {
   "codemirror_mode": {
    "name": "ipython",
    "version": 3
   },
   "file_extension": ".py",
   "mimetype": "text/x-python",
   "name": "python",
   "nbconvert_exporter": "python",
   "pygments_lexer": "ipython3",
   "version": "3.8.10"
  }
 },
 "nbformat": 4,
 "nbformat_minor": 2
}
