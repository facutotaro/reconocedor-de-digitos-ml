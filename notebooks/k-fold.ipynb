{
 "cells": [
  {
   "cell_type": "markdown",
   "metadata": {},
   "source": [
    "# Reconocimiento de dígitos con KNN\n",
    "\n",
    "Veamos como interactuar con las clases implementadas en el módulo de C++ haciendo una experimentación muy simplificada, y a modo de ejemplo, del método KNN para reconocer digitos"
   ]
  },
  {
   "cell_type": "markdown",
   "metadata": {},
   "source": [
    "## Compilando el módulo desde C++\n",
    "\n",
    "Definir los path al ejecutable de python 3.6 y sus librerías,\n",
    "de acuerdo al virtual env que estén corriendo."
   ]
  },
  {
   "cell_type": "code",
   "execution_count": 1,
   "metadata": {},
   "outputs": [
    {
     "name": "stdout",
     "output_type": "stream",
     "text": [
      "mkdir: cannot create directory ‘build’: File exists\n",
      "-- The C compiler identification is GNU 9.3.0\n",
      "-- The CXX compiler identification is GNU 9.3.0\n",
      "-- Check for working C compiler: /usr/bin/cc\n",
      "-- Check for working C compiler: /usr/bin/cc -- works\n",
      "-- Detecting C compiler ABI info\n",
      "-- Detecting C compiler ABI info - done\n",
      "-- Detecting C compile features\n",
      "-- Detecting C compile features - done\n",
      "-- Check for working CXX compiler: /usr/bin/c++\n",
      "-- Check for working CXX compiler: /usr/bin/c++ -- works\n",
      "-- Detecting CXX compiler ABI info\n",
      "-- Detecting CXX compiler ABI info - done\n",
      "-- Detecting CXX compile features\n",
      "-- Detecting CXX compile features - done\n",
      "Release mode\n",
      "-- Found PythonInterp: /home/rociodcasco/miniconda3/envs/tp2/bin/python3 (found version \"3.6.5\") \n",
      "-- Found PythonLibs: /home/rociodcasco/miniconda3/envs/tp2/lib/libpython3.6m.so\n",
      "-- pybind11 v2.2.4\n",
      "-- Performing Test HAS_FLTO\n",
      "-- Performing Test HAS_FLTO - Success\n",
      "-- LTO enabled\n",
      "CMAKE_INSTALL_PREFIX=/mnt/c/Users/Rocío/Documents/GitHub/metnum_tp2\n",
      "-- Configuring done\n",
      "-- Generating done\n",
      "-- Build files have been written to: /mnt/c/Users/Rocío/Documents/GitHub/metnum_tp2/build\n",
      "\u001b[35m\u001b[1mScanning dependencies of target tp2\u001b[0m\n",
      "[ 10%] \u001b[32mBuilding CXX object CMakeFiles/tp2.dir/src/main.cpp.o\u001b[0m\n",
      "[ 20%] \u001b[32mBuilding CXX object CMakeFiles/tp2.dir/src/knn.cpp.o\u001b[0m\n",
      "[ 30%] \u001b[32mBuilding CXX object CMakeFiles/tp2.dir/src/pca.cpp.o\u001b[0m\n",
      "[ 40%] \u001b[32mBuilding CXX object CMakeFiles/tp2.dir/src/eigen.cpp.o\u001b[0m\n",
      "[ 50%] \u001b[32m\u001b[1mLinking CXX executable tp2\u001b[0m\n",
      "[ 50%] Built target tp2\n",
      "\u001b[35m\u001b[1mScanning dependencies of target metnum\u001b[0m\n",
      "[ 60%] \u001b[32mBuilding CXX object CMakeFiles/metnum.dir/src/metnum.cpp.o\u001b[0m\n",
      "[ 70%] \u001b[32mBuilding CXX object CMakeFiles/metnum.dir/src/knn.cpp.o\u001b[0m\n",
      "[ 80%] \u001b[32mBuilding CXX object CMakeFiles/metnum.dir/src/pca.cpp.o\u001b[0m\n",
      "[ 90%] \u001b[32mBuilding CXX object CMakeFiles/metnum.dir/src/eigen.cpp.o\u001b[0m\n",
      "[100%] \u001b[32m\u001b[1mLinking CXX shared module metnum.cpython-36m-x86_64-linux-gnu.so\u001b[0m\n",
      "[100%] Built target metnum\n",
      "\u001b[36mInstall the project...\u001b[0m\n",
      "-- Install configuration: \"Release\"\n",
      "-- Installing: /mnt/c/Users/Rocío/Documents/GitHub/metnum_tp2/notebooks/metnum.cpython-36m-x86_64-linux-gnu.so\n"
     ]
    }
   ],
   "source": [
    "!cd .. && mkdir build\n",
    "!cd ../build/ && rm -rf *\n",
    "!cd ../build && cmake \\\n",
    "  -DPYTHON_EXECUTABLE=\"$(which python3)\" \\\n",
    "  -DCMAKE_BUILD_TYPE=Release ..\n",
    "!cd ../build && make install"
   ]
  },
  {
   "cell_type": "code",
   "execution_count": 2,
   "metadata": {},
   "outputs": [
    {
     "name": "stdout",
     "output_type": "stream",
     "text": [
      "/mnt/c/Users/Rocío/Documents/GitHub/metnum_tp2/notebooks\n",
      "Python 3.6.5 :: Anaconda, Inc.\n"
     ]
    }
   ],
   "source": [
    "# Verifico la correcta instalación. Si no falla el import está OK\n",
    "!pwd\n",
    "!python3 --version\n",
    "import metnum"
   ]
  },
  {
   "cell_type": "markdown",
   "metadata": {},
   "source": [
    "## Cargando los datos"
   ]
  },
  {
   "cell_type": "code",
   "execution_count": 3,
   "metadata": {},
   "outputs": [],
   "source": [
    "%load_ext autoreload\n",
    "%autoreload 2\n",
    "import pandas as pd\n",
    "import numpy as np\n",
    "\n",
    "data_frame = pd.read_csv(\"../data/train.csv\")\n",
    "X = data_frame[data_frame.columns[1:]].values\n",
    "y = data_frame[\"label\"].values.reshape(-1, 1)"
   ]
  },
  {
   "cell_type": "markdown",
   "metadata": {},
   "source": [
    "Es un csv, con columnas por cada pixel"
   ]
  },
  {
   "cell_type": "markdown",
   "metadata": {},
   "source": [
    "### K-fold"
   ]
  },
  {
   "cell_type": "code",
   "execution_count": 4,
   "metadata": {},
   "outputs": [
    {
     "name": "stdout",
     "output_type": "stream",
     "text": [
      "K: 3 ,i: 0 → exactitud: 0.9555\n",
      "K: 3 ,i: 1 → exactitud: 0.9529285714285715\n",
      "K: 3 ,i: 2 → exactitud: 0.9571428571428572\n",
      "K: 3 → promedio: 0.9551904761904763 mínimo: 0.9529285714285715\n",
      "K: 4 ,i: 0 → exactitud: 0.9552380952380952\n",
      "K: 4 ,i: 1 → exactitud: 0.9577142857142857\n",
      "K: 4 ,i: 2 → exactitud: 0.9528571428571428\n",
      "K: 4 ,i: 3 → exactitud: 0.962\n",
      "K: 4 → promedio: 0.956952380952381 mínimo: 0.9528571428571428\n",
      "K: 5 ,i: 0 → exactitud: 0.9610714285714286\n",
      "K: 5 ,i: 1 → exactitud: 0.9572619047619048\n",
      "K: 5 ,i: 2 → exactitud: 0.9577380952380953\n",
      "K: 5 ,i: 3 → exactitud: 0.9554761904761905\n",
      "K: 5 ,i: 4 → exactitud: 0.9551190476190476\n",
      "K: 5 → promedio: 0.9573333333333334 mínimo: 0.9551190476190476\n",
      "CPU times: user 3min 8s, sys: 11.2 s, total: 3min 20s\n",
      "Wall time: 3min 22s\n"
     ]
    }
   ],
   "source": [
    "%%time\n",
    "\n",
    "from sklearn.neighbors import KNeighborsClassifier\n",
    "from sklearn.metrics import accuracy_score\n",
    "\n",
    "exactitudes = []\n",
    "\n",
    "alfa_componentes_principales = 40\n",
    "k_vecinos_mas_cercanos = 5\n",
    "\n",
    "for K in range(3,5+1) :\n",
    "    exactitudes.append([])\n",
    "    tamanio_particiones = int(X.shape[0]/K)\n",
    "    for i in range(0,K) :\n",
    "        limite_bajo = tamanio_particiones*i\n",
    "        limite_alto = tamanio_particiones*(i+1)\n",
    "        X_entrenamiento = np.concatenate((X[:limite_bajo], X[limite_alto:]))\n",
    "        y_entrenamiento = np.concatenate((y[:limite_bajo],y[limite_alto:]))\n",
    "        X_validacion = X[limite_bajo:limite_alto]\n",
    "        y_validacion = y[limite_bajo:limite_alto]\n",
    "        \n",
    "        PCA = metnum.PCA(alfa_componentes_principales)\n",
    "        PCA.fit(X_entrenamiento)\n",
    "        clasificador = metnum.KNNClassifier(k_vecinos_mas_cercanos)\n",
    "        X_entrenamiento_PCA = PCA.transform(X_entrenamiento)\n",
    "        X_validacion_PCA = PCA.transform(X_validacion)\n",
    "        \n",
    "        clasificador.fit(X_entrenamiento_PCA, y_entrenamiento)\n",
    "        predicciones = clasificador.predict(X_validacion_PCA)\n",
    "        \n",
    "        exactitudes[-1].append(accuracy_score(predicciones, y_validacion))\n",
    "        print(\"K:\",K,\",i:\",i,\"→ exactitud:\",exactitudes[-1][-1])\n",
    "    print(\"K:\",K,\"→ promedio:\",np.mean(exactitudes[-1]),\"mínimo:\",np.min(exactitudes[-1]))"
   ]
  }
 ],
 "metadata": {
  "kernelspec": {
   "display_name": "Python 3 (ipykernel)",
   "language": "python",
   "name": "python3"
  },
  "language_info": {
   "codemirror_mode": {
    "name": "ipython",
    "version": 3
   },
   "file_extension": ".py",
   "mimetype": "text/x-python",
   "name": "python",
   "nbconvert_exporter": "python",
   "pygments_lexer": "ipython3",
   "version": "3.6.5"
  }
 },
 "nbformat": 4,
 "nbformat_minor": 4
}
