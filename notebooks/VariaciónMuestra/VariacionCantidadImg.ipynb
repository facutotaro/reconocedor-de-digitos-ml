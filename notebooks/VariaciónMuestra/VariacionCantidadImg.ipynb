{
 "cells": [
  {
   "cell_type": "code",
   "execution_count": 1,
   "id": "7f096ae8-2eeb-4659-a9ed-061b447c0827",
   "metadata": {},
   "outputs": [
    {
     "name": "stdout",
     "output_type": "stream",
     "text": [
      "mkdir: cannot create directory ‘build’: File exists\n",
      "-- The C compiler identification is GNU 9.3.0\n",
      "-- The CXX compiler identification is GNU 9.3.0\n",
      "-- Check for working C compiler: /usr/bin/cc\n",
      "-- Check for working C compiler: /usr/bin/cc -- works\n",
      "-- Detecting C compiler ABI info\n",
      "-- Detecting C compiler ABI info - done\n",
      "-- Detecting C compile features\n",
      "-- Detecting C compile features - done\n",
      "-- Check for working CXX compiler: /usr/bin/c++\n",
      "-- Check for working CXX compiler: /usr/bin/c++ -- works\n",
      "-- Detecting CXX compiler ABI info\n",
      "-- Detecting CXX compiler ABI info - done\n",
      "-- Detecting CXX compile features\n",
      "-- Detecting CXX compile features - done\n",
      "Release mode\n",
      "-- Found PythonInterp: /home/rociodcasco/miniconda3/envs/tp2/bin/python (found version \"3.6.5\") \n",
      "-- Found PythonLibs: /home/rociodcasco/miniconda3/envs/tp2/lib/libpython3.6m.so\n",
      "-- pybind11 v2.2.4\n",
      "-- Performing Test HAS_FLTO\n",
      "-- Performing Test HAS_FLTO - Success\n",
      "-- LTO enabled\n",
      "CMAKE_INSTALL_PREFIX=/mnt/c/Users/Rocío/Documents/GitHub/metnum_tp2\n",
      "-- Configuring done\n",
      "-- Generating done\n",
      "-- Build files have been written to: /mnt/c/Users/Rocío/Documents/GitHub/metnum_tp2/build\n",
      "\u001b[35m\u001b[1mScanning dependencies of target tp2\u001b[0m\n",
      "[ 10%] \u001b[32mBuilding CXX object CMakeFiles/tp2.dir/src/main.cpp.o\u001b[0m\n",
      "[ 20%] \u001b[32mBuilding CXX object CMakeFiles/tp2.dir/src/knn.cpp.o\u001b[0m\n",
      "[ 30%] \u001b[32mBuilding CXX object CMakeFiles/tp2.dir/src/pca.cpp.o\u001b[0m\n",
      "[ 40%] \u001b[32mBuilding CXX object CMakeFiles/tp2.dir/src/eigen.cpp.o\u001b[0m\n",
      "Assembler messages:\n",
      "Fatal error: can't create CMakeFiles/tp2.dir/src/eigen.cpp.o: No such file or directory\n",
      "make[2]: *** [CMakeFiles/tp2.dir/build.make:102: CMakeFiles/tp2.dir/src/eigen.cpp.o] Error 1\n",
      "make[1]: *** [CMakeFiles/Makefile2:98: CMakeFiles/tp2.dir/all] Error 2\n",
      "make: *** [Makefile:130: all] Error 2\n"
     ]
    }
   ],
   "source": [
    "!cd .. && mkdir build\n",
    "!cd ../../build/ && rm -rf *\n",
    "!cd ../../build && cmake \\\n",
    "  -DPYTHON_EXECUTABLE=\"$(which python)\" \\\n",
    "  -DCMAKE_BUILD_TYPE=Release ..\n",
    "!cd ../../build && make install"
   ]
  },
  {
   "cell_type": "code",
   "execution_count": 2,
   "id": "cdeb00e8-94a2-4503-9dcd-d927e326a6ea",
   "metadata": {},
   "outputs": [
    {
     "name": "stdout",
     "output_type": "stream",
     "text": [
      "/mnt/c/Users/Rocío/Documents/GitHub/metnum_tp2/notebooks/VariaciónMuestra\n",
      "Python 3.6.5 :: Anaconda, Inc.\n"
     ]
    }
   ],
   "source": [
    "# verifico version de python e importo metnum\n",
    "!pwd\n",
    "!python --version\n",
    "\n",
    "import sys\n",
    "import os\n",
    "\n",
    "p = os.path.abspath('../')\n",
    "sys.path.insert(1, p)\n",
    "\n",
    "import metnum"
   ]
  },
  {
   "cell_type": "code",
   "execution_count": 3,
   "id": "c91e5022-b380-434f-9be7-cf0f05478f64",
   "metadata": {},
   "outputs": [],
   "source": [
    "%load_ext autoreload\n",
    "%autoreload 2\n",
    "import pandas as pd\n",
    "\n",
    "#Extraer dataset\n",
    "df_train = pd.read_csv(\"../../data/train.csv\")\n"
   ]
  },
  {
   "cell_type": "code",
   "execution_count": 4,
   "id": "ef928fa0-3903-4a17-8013-928a54d2c564",
   "metadata": {},
   "outputs": [],
   "source": [
    "# shuffle\n",
    "df_train = df_train.sample(frac = 1)\n"
   ]
  },
  {
   "cell_type": "code",
   "execution_count": 5,
   "id": "dd5ed177-2405-46eb-82cc-76e19da02dd6",
   "metadata": {},
   "outputs": [],
   "source": [
    "def predict(X_train, y_train, X_val, alpha, k, con_pca):\n",
    "    \n",
    "    clf = metnum.KNNClassifier(k)\n",
    "    \n",
    "    if con_pca:\n",
    "        \n",
    "        pca = metnum.PCA(alpha)\n",
    "        pca.fit(X_train)\n",
    "        \n",
    "        X_train = pca.transform(X_train)\n",
    "        X_val = pca.transform(X_val)\n",
    "        \n",
    "    clf.fit(X_train, y_train)\n",
    "    y_pred = clf.predict(X_val)\n",
    "    \n",
    "    return y_pred"
   ]
  },
  {
   "cell_type": "code",
   "execution_count": 6,
   "id": "097da181-7270-4e1e-b90a-fd76644244ac",
   "metadata": {},
   "outputs": [
    {
     "name": "stdout",
     "output_type": "stream",
     "text": [
      "aber: 0.1\n",
      "Ahora tengo 3360 instancias de entrenamiento y 840 de validación\n",
      "El tiempo de ejecución es: 0.8834893703460693\n",
      "aber: 0.2\n",
      "Ahora tengo 6720 instancias de entrenamiento y 1680 de validación\n",
      "El tiempo de ejecución es: 1.0526137351989746\n",
      "aber: 0.3\n",
      "Ahora tengo 10080 instancias de entrenamiento y 2520 de validación\n",
      "El tiempo de ejecución es: 2.260730028152466\n",
      "aber: 0.4\n",
      "Ahora tengo 13440 instancias de entrenamiento y 3360 de validación\n",
      "El tiempo de ejecución es: 3.3640265464782715\n",
      "aber: 0.5\n",
      "Ahora tengo 16800 instancias de entrenamiento y 4200 de validación\n",
      "El tiempo de ejecución es: 4.570348262786865\n",
      "aber: 0.6\n",
      "Ahora tengo 20160 instancias de entrenamiento y 5040 de validación\n",
      "El tiempo de ejecución es: 6.025137186050415\n",
      "aber: 0.7\n",
      "Ahora tengo 23519 instancias de entrenamiento y 5880 de validación\n",
      "El tiempo de ejecución es: 7.986444473266602\n",
      "aber: 0.8\n",
      "Ahora tengo 26880 instancias de entrenamiento y 6720 de validación\n",
      "El tiempo de ejecución es: 10.255169153213501\n",
      "aber: 0.9\n",
      "Ahora tengo 30240 instancias de entrenamiento y 7560 de validación\n",
      "El tiempo de ejecución es: 12.375076293945312\n",
      "aber: 1.0\n",
      "Ahora tengo 33600 instancias de entrenamiento y 8400 de validación\n",
      "El tiempo de ejecución es: 14.592070579528809\n",
      "Tiempo total de ejecucion: 64.42794370651245\n"
     ]
    }
   ],
   "source": [
    "import numpy as np\n",
    "from sklearn.metrics import accuracy_score\n",
    "from sklearn.metrics import precision_score\n",
    "from sklearn.metrics import recall_score\n",
    "import time\n",
    "\n",
    "acc_pred = []\n",
    "prec_pred = []\n",
    "recall_pred = []\n",
    "total = len(df_train)\n",
    "\n",
    "durationPerIteration = []\n",
    "\n",
    "\n",
    "#por porcentajes\n",
    "cantidadImg = [10, 20, 30, 40, 50, 60, 70, 80, 90, 100]\n",
    "\n",
    "totalTimeSt = time.time()\n",
    "for i in cantidadImg:\n",
    "    print(f\"aber: {i/100}\")\n",
    "    #Corto la muestra\n",
    "    sample = df_train[:int((i/100)*total)]\n",
    "    \n",
    "    # Uso values para mandar todo a arrays de numpy\n",
    "    X = sample[sample.columns[1:]].values\n",
    "    y = sample[\"label\"].values.reshape(-1, 1)\n",
    "    \n",
    "    #Separo train de validacion\n",
    "    limit = int(0.8 * X.shape[0]) \n",
    "\n",
    "    X_train, y_train = X[:limit], y[:limit]\n",
    "    X_val, y_val = X[limit:], y[limit:]\n",
    "    \n",
    "    assert len(X_train) == len(y_train)\n",
    "    assert len(X_val) == len(y_val)\n",
    "    \n",
    "    print(f\"Ahora tengo {len(X_train)} instancias de entrenamiento y {len(X_val)} de validación\")\n",
    "    \n",
    "    #kNN con alpha y k optimos _en teoria_ y con PCA\n",
    "    start = time.time()\n",
    "    y_pred = predict(X_train, y_train, X_val, 40, 5, True)\n",
    "    finish = time.time()\n",
    "    \n",
    "    #guardo las metricas\n",
    "    acc = accuracy_score(y_val, y_pred)\n",
    "    acc_pred.append(acc)\n",
    "   \n",
    "    prec = precision_score(y_val, y_pred, average='macro')\n",
    "    prec_pred.append(prec)\n",
    "    \n",
    "    recall = recall_score(y_val, y_pred, average='macro')\n",
    "    recall_pred.append(recall)\n",
    "    \n",
    "    #guardo el tiempo\n",
    "    totalTime = finish-start\n",
    "    durationPerIteration.append(totalTime)\n",
    "    print(f\"El tiempo de ejecución es: {totalTime}\")\n",
    "    \n",
    "totalTimeF = time.time()\n",
    "\n",
    "print(f\"Tiempo total de ejecucion: {totalTimeF - totalTimeSt}\")"
   ]
  },
  {
   "cell_type": "code",
   "execution_count": 7,
   "id": "9cc47e29-82a7-4eba-b8c2-89a795f0fdb2",
   "metadata": {},
   "outputs": [
    {
     "data": {
      "image/png": "[encoded data removed]",
      "text/plain": [
       "<Figure size 432x288 with 1 Axes>"
      ]
     },
     "metadata": {
      "needs_background": "light"
     },
     "output_type": "display_data"
    }
   ],
   "source": [
    "import matplotlib.pyplot as plt\n",
    "import numpy as np\n",
    "\n",
    "# Data for plotting\n",
    "\n",
    "plt.plot(cantidadImg, acc_pred)\n",
    "plt.plot(cantidadImg, prec_pred)\n",
    "\n",
    "plt.xlabel('% de muestra total')\n",
    "plt.title(\"kNN con PCA: alpha=40, k=5\")\n",
    "plt.legend([\"Acuraccy\", \"Precision\"])\n",
    "\n",
    "plt.xticks(cantidadImg)\n",
    "plt.yticks([0.9,0.91,0.92,0.93,0.94,0.95,0.96,0.97,0.98,0.99, 1])\n",
    "\n",
    "plt.savefig(\"METRICSTest1.jpg\")\n",
    "plt.show()"
   ]
  },
  {
   "cell_type": "code",
   "execution_count": 20,
   "id": "10bb7bb1-e987-4f9d-a0cd-eaa8cad49e58",
   "metadata": {},
   "outputs": [
    {
     "name": "stdout",
     "output_type": "stream",
     "text": [
      "[0.8834893703460693, 0.5263068675994873, 0.7535766760508219, 0.8410066366195679, 0.914069652557373, 1.0041895310084026, 1.140920639038086, 1.2818961441516876, 1.3750084771050348, 1.4592070579528809]\n",
      "1.017967105242941\n"
     ]
    }
   ],
   "source": [
    "todos = []\n",
    "\n",
    "for i in range(len(durationPerIteration)):\n",
    "    aber = durationPerIteration[i] / (i+1)\n",
    "    todos.append(aber)\n",
    "    \n",
    "print(todos)\n",
    "\n",
    "print(sum(todos)/10)\n",
    "    \n"
   ]
  },
  {
   "cell_type": "code",
   "execution_count": 8,
   "id": "8c253d29-27f0-4741-9f89-50f240ab1751",
   "metadata": {},
   "outputs": [
    {
     "name": "stdout",
     "output_type": "stream",
     "text": [
      "El maximo Accuracy es 0.9594047619047619 y se alcanza con el 100% de la muestra total\n",
      "La máxima Precision es 0.9589947472192275 y se alcanza con el 100% de la muestra total\n"
     ]
    }
   ],
   "source": [
    "maximoACC = max(acc_pred)\n",
    "maximoPREC = max(prec_pred)\n",
    "indACC = acc_pred.index(maximoACC)\n",
    "indPREC = prec_pred.index(maximoPREC)\n",
    "\n",
    "print(f\"El maximo Accuracy es {maximoACC} y se alcanza con el {cantidadImg[indACC]}% de la muestra total\")\n",
    "print(f\"La máxima Precision es {maximoPREC} y se alcanza con el {cantidadImg[indPREC]}% de la muestra total\")"
   ]
  },
  {
   "cell_type": "code",
   "execution_count": 9,
   "id": "c67af9c6-ecc8-4e44-913f-51ccbacbb538",
   "metadata": {},
   "outputs": [
    {
     "data": {
      "image/png": "[encoded data removed]",
      "text/plain": [
       "<Figure size 432x288 with 1 Axes>"
      ]
     },
     "metadata": {
      "needs_background": "light"
     },
     "output_type": "display_data"
    }
   ],
   "source": [
    "plt.plot(cantidadImg, durationPerIteration)\n",
    "\n",
    "plt.xlabel('% de muestra total')\n",
    "plt.ylabel(\"Time (s) \")\n",
    "\n",
    "plt.xticks(cantidadImg)\n",
    "\n",
    "plt.savefig(\"TIMETest1.jpg\")\n",
    "plt.show()"
   ]
  },
  {
   "cell_type": "code",
   "execution_count": 21,
   "id": "77efbdad-425f-4dd5-b4c3-6190d27a31ea",
   "metadata": {},
   "outputs": [],
   "source": [
    "import pandas as pd\n",
    "# cantidadImg, accuracy, precision, time\n",
    "\n",
    "aber = {'cantidadImg': cantidadImg, 'accuracy': acc_pred, 'precision': prec_pred, 'time': durationPerIteration}\n",
    "\n",
    "xd = pd.DataFrame(aber)\n",
    "xd.to_csv('datosTest1.csv')"
   ]
  }
 ],
 "metadata": {
  "kernelspec": {
   "display_name": "Python 3 (ipykernel)",
   "language": "python",
   "name": "python3"
  },
  "language_info": {
   "codemirror_mode": {
    "name": "ipython",
    "version": 3
   },
   "file_extension": ".py",
   "mimetype": "text/x-python",
   "name": "python",
   "nbconvert_exporter": "python",
   "pygments_lexer": "ipython3",
   "version": "3.6.5"
  }
 },
 "nbformat": 4,
 "nbformat_minor": 5
}
