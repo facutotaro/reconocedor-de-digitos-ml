{
 "cells": [
  {
   "cell_type": "markdown",
   "id": "edf986f6",
   "metadata": {},
   "source": [
    "# Calidad de resultados segun k y alpha"
   ]
  },
  {
   "cell_type": "markdown",
   "id": "daa1adcb",
   "metadata": {},
   "source": [
    "## Pre - Experimentacion"
   ]
  },
  {
   "cell_type": "code",
   "execution_count": 34,
   "id": "579ee79b",
   "metadata": {},
   "outputs": [
    {
     "name": "stdout",
     "output_type": "stream",
     "text": [
      "mkdir: cannot create directory ‘build’: File exists\n",
      "-- The C compiler identification is GNU 9.3.0\n",
      "-- The CXX compiler identification is GNU 9.3.0\n",
      "-- Check for working C compiler: /usr/bin/cc\n",
      "-- Check for working C compiler: /usr/bin/cc -- works\n",
      "-- Detecting C compiler ABI info\n",
      "-- Detecting C compiler ABI info - done\n",
      "-- Detecting C compile features\n",
      "-- Detecting C compile features - done\n",
      "-- Check for working CXX compiler: /usr/bin/c++\n",
      "-- Check for working CXX compiler: /usr/bin/c++ -- works\n",
      "-- Detecting CXX compiler ABI info\n",
      "-- Detecting CXX compiler ABI info - done\n",
      "-- Detecting CXX compile features\n",
      "-- Detecting CXX compile features - done\n",
      "Release mode\n",
      "-- Found PythonInterp: /home/lucas/.virtualenvs/metnum_tp2/bin/python (found version \"3.8.10\") \n",
      "-- Found PythonLibs: /usr/lib/x86_64-linux-gnu/libpython3.8.so\n",
      "-- pybind11 v2.2.4\n",
      "-- Performing Test HAS_FLTO\n",
      "-- Performing Test HAS_FLTO - Success\n",
      "-- LTO enabled\n",
      "CMAKE_INSTALL_PREFIX=/home/lucas/Desktop/MetNum/TP/TP2/metnum_tp2\n",
      "-- Configuring done\n",
      "-- Generating done\n",
      "-- Build files have been written to: /home/lucas/Desktop/MetNum/TP/TP2/metnum_tp2/build\n",
      "\u001b[35m\u001b[1mScanning dependencies of target tp2\u001b[0m\n",
      "[ 10%] \u001b[32mBuilding CXX object CMakeFiles/tp2.dir/src/main.cpp.o\u001b[0m\n",
      "[ 20%] \u001b[32mBuilding CXX object CMakeFiles/tp2.dir/src/knn.cpp.o\u001b[0m\n",
      "[ 30%] \u001b[32mBuilding CXX object CMakeFiles/tp2.dir/src/pca.cpp.o\u001b[0m\n",
      "[ 40%] \u001b[32mBuilding CXX object CMakeFiles/tp2.dir/src/eigen.cpp.o\u001b[0m\n",
      "[ 50%] \u001b[32m\u001b[1mLinking CXX executable tp2\u001b[0m\n",
      "[ 50%] Built target tp2\n",
      "\u001b[35m\u001b[1mScanning dependencies of target metnum\u001b[0m\n",
      "[ 60%] \u001b[32mBuilding CXX object CMakeFiles/metnum.dir/src/metnum.cpp.o\u001b[0m\n",
      "[ 70%] \u001b[32mBuilding CXX object CMakeFiles/metnum.dir/src/knn.cpp.o\u001b[0m\n",
      "[ 80%] \u001b[32mBuilding CXX object CMakeFiles/metnum.dir/src/pca.cpp.o\u001b[0m\n",
      "[ 90%] \u001b[32mBuilding CXX object CMakeFiles/metnum.dir/src/eigen.cpp.o\u001b[0m\n",
      "[100%] \u001b[32m\u001b[1mLinking CXX shared module metnum.cpython-38-x86_64-linux-gnu.so\u001b[0m\n",
      "[100%] Built target metnum\n",
      "\u001b[36mInstall the project...\u001b[0m\n",
      "-- Install configuration: \"Release\"\n",
      "-- Installing: /home/lucas/Desktop/MetNum/TP/TP2/metnum_tp2/notebooks/metnum.cpython-38-x86_64-linux-gnu.so\n"
     ]
    }
   ],
   "source": [
    "# make cpp libraries\n",
    "!cd ../../ && mkdir build\n",
    "!cd ../../build/ && rm -rf *\n",
    "!cd ../../build && cmake \\\n",
    "  -DPYTHON_EXECUTABLE=\"$(which python)\" \\\n",
    "  -DCMAKE_BUILD_TYPE=Release ..\n",
    "!cd ../../build && make install"
   ]
  },
  {
   "cell_type": "code",
   "execution_count": 35,
   "id": "f544da4a",
   "metadata": {},
   "outputs": [
    {
     "name": "stdout",
     "output_type": "stream",
     "text": [
      "/home/lucas/Desktop/MetNum/TP/TP2/metnum_tp2/notebooks/calidad_k_alpha\n",
      "Python 3.8.10\n"
     ]
    }
   ],
   "source": [
    "# verifico version de python e importo metnum\n",
    "!pwd\n",
    "!python --version\n",
    "\n",
    "import sys\n",
    "import os\n",
    "\n",
    "p = os.path.abspath('../')\n",
    "sys.path.insert(1, p)\n",
    "\n",
    "import metnum"
   ]
  },
  {
   "cell_type": "code",
   "execution_count": 36,
   "id": "1737373f",
   "metadata": {},
   "outputs": [],
   "source": [
    "#funcion general del modelo\n",
    "def predict(X_train, y_train, X_val, alpha, k, con_pca):\n",
    "    \n",
    "    clf = metnum.KNNClassifier(k)\n",
    "    \n",
    "    if con_pca:\n",
    "        \n",
    "        pca = metnum.PCA(alpha)\n",
    "        pca.fit(X_train)\n",
    "        \n",
    "        X_train = pca.transform(X_train)\n",
    "        X_val = pca.transform(X_val)\n",
    "        \n",
    "    clf.fit(X_train, y_train)\n",
    "    y_pred = clf.predict(X_val)\n",
    "    \n",
    "    return y_pred"
   ]
  },
  {
   "cell_type": "code",
   "execution_count": 12,
   "id": "bf69db1b",
   "metadata": {},
   "outputs": [],
   "source": [
    "import numpy as np\n",
    "\n",
    "def k_folds(X,y, folds):\n",
    "    \n",
    "    fold_size = int(X.shape[0]/folds)\n",
    "    \n",
    "    X_folds = []\n",
    "    y_folds = []\n",
    "    \n",
    "    for i in range(folds):\n",
    "        \n",
    "        if (i + 1)*fold_size < X.shape[0]: limit = (i + 1)*fold_size\n",
    "        else: limit = X.shape[0]\n",
    "        \n",
    "        X_folds.append(X[i*fold_size:limit])\n",
    "        y_folds.append(y[i*fold_size:limit])\n",
    "        \n",
    "    return X_folds, y_folds\n",
    "\n",
    "def join_folds(X_list, y_list):\n",
    "    \n",
    "    X_join = X_list[0]\n",
    "    y_join = y_list[0]\n",
    "    \n",
    "    for i in range(1,len(X_list)):\n",
    "    \n",
    "        X_join = np.append(X_join, X_list[i], axis = 0)\n",
    "        y_join = np.append(y_join, y_list[i], axis = 0)\n",
    "        \n",
    "    return X_join, y_join"
   ]
  },
  {
   "cell_type": "code",
   "execution_count": 38,
   "id": "15fb54e8",
   "metadata": {},
   "outputs": [],
   "source": [
    "# metrics\n",
    "\n",
    "def compare_value(y_predict, y_val, i):\n",
    "    \n",
    "    tp, tn, fp, fn = 0, 0, 0, 0\n",
    "    \n",
    "    for j in range(len(y_val)):\n",
    "        \n",
    "        if y_val[j][0] == i:\n",
    "            if y_predict[j][0] == i: tp+=1\n",
    "            else: fn += 1\n",
    "        else:\n",
    "            if y_predict[j][0] == i: fp += 1\n",
    "            else: tn += 1\n",
    "\n",
    "    return tp, tn, fp, fn\n",
    "            \n",
    "def metrics_value(y_pred, y_val, i):\n",
    "    \n",
    "    tp, tn, fp, fn = compare_value(y_pred, y_val, i)\n",
    "    \n",
    "    acc = (tp + tn)/(tp + tn + fp + fn)\n",
    "    prec = tp/(tp + fp)\n",
    "    rec = tp/(tp + fn)\n",
    "    \n",
    "    return acc, prec, rec\n",
    "\n",
    "def metrics(y_pred, y_val):\n",
    "    \n",
    "    acc_sum = 0\n",
    "    prec_sum = 0\n",
    "    rec_sum = 0\n",
    "    \n",
    "    for i in range(10):\n",
    "        \n",
    "        acc, prec, rec = metrics_value(y_pred, y_val, i)\n",
    "        \n",
    "        acc_sum += acc\n",
    "        prec_sum += prec\n",
    "        rec_sum += rec\n",
    "        \n",
    "    return acc_sum/10, prec_sum/10, rec_sum/10"
   ]
  },
  {
   "cell_type": "code",
   "execution_count": 39,
   "id": "b05378e4",
   "metadata": {},
   "outputs": [
    {
     "name": "stdout",
     "output_type": "stream",
     "text": [
      "The autoreload extension is already loaded. To reload it, use:\n",
      "  %reload_ext autoreload\n"
     ]
    }
   ],
   "source": [
    "# Extraigo data set MNIST\n",
    "%load_ext autoreload\n",
    "%autoreload 2\n",
    "\n",
    "import pandas as pd\n",
    "\n",
    "df_train = pd.read_csv(\"../../data/train.csv\")\n",
    "\n",
    "df_train = df_train.sample(frac = 1) # shuffle df\n",
    "\n",
    "#df_train = df_train[:5000]\n",
    "\n",
    "X = df_train[df_train.columns[1:]].values\n",
    "y = df_train[\"label\"].values.reshape(-1, 1)"
   ]
  },
  {
   "cell_type": "code",
   "execution_count": 1,
   "id": "e213ed79",
   "metadata": {},
   "outputs": [],
   "source": [
    "import matplotlib.pyplot as plt\n",
    "from tqdm import tqdm"
   ]
  },
  {
   "cell_type": "markdown",
   "id": "01383156",
   "metadata": {},
   "source": [
    "## KNN (sin PCA)"
   ]
  },
  {
   "cell_type": "code",
   "execution_count": 41,
   "id": "5d3dce96",
   "metadata": {},
   "outputs": [],
   "source": [
    "#Particiono los datos\n",
    "limit = int(0.8 * X.shape[0]) \n",
    "\n",
    "X_train, y_train = X[:limit], y[:limit]\n",
    "X_val, y_val = X[limit:], y[limit:]"
   ]
  },
  {
   "cell_type": "code",
   "execution_count": 42,
   "id": "4e7dd833",
   "metadata": {},
   "outputs": [
    {
     "name": "stdout",
     "output_type": "stream",
     "text": [
      "hey\n"
     ]
    },
    {
     "name": "stderr",
     "output_type": "stream",
     "text": [
      "\r",
      "  0%|                                                     | 0/7 [00:00<?, ?it/s]"
     ]
    },
    {
     "name": "stdout",
     "output_type": "stream",
     "text": [
      "k: 1\n"
     ]
    },
    {
     "name": "stderr",
     "output_type": "stream",
     "text": [
      "\r",
      " 14%|██████▎                                     | 1/7 [04:57<29:44, 297.35s/it]"
     ]
    },
    {
     "name": "stdout",
     "output_type": "stream",
     "text": [
      "k: 2\n"
     ]
    },
    {
     "name": "stderr",
     "output_type": "stream",
     "text": [
      "\r",
      " 29%|████████████▌                               | 2/7 [09:39<24:03, 288.61s/it]"
     ]
    },
    {
     "name": "stdout",
     "output_type": "stream",
     "text": [
      "k: 5\n"
     ]
    },
    {
     "name": "stderr",
     "output_type": "stream",
     "text": [
      "\r",
      " 43%|██████████████████▊                         | 3/7 [14:24<19:06, 286.73s/it]"
     ]
    },
    {
     "name": "stdout",
     "output_type": "stream",
     "text": [
      "k: 10\n"
     ]
    },
    {
     "name": "stderr",
     "output_type": "stream",
     "text": [
      "\r",
      " 57%|█████████████████████████▏                  | 4/7 [19:08<14:17, 285.84s/it]"
     ]
    },
    {
     "name": "stdout",
     "output_type": "stream",
     "text": [
      "k: 20\n"
     ]
    },
    {
     "name": "stderr",
     "output_type": "stream",
     "text": [
      "\r",
      " 71%|███████████████████████████████▍            | 5/7 [23:44<09:24, 282.33s/it]"
     ]
    },
    {
     "name": "stdout",
     "output_type": "stream",
     "text": [
      "k: 50\n"
     ]
    },
    {
     "name": "stderr",
     "output_type": "stream",
     "text": [
      "\r",
      " 86%|█████████████████████████████████████▋      | 6/7 [28:13<04:37, 277.60s/it]"
     ]
    },
    {
     "name": "stdout",
     "output_type": "stream",
     "text": [
      "k: 100\n"
     ]
    },
    {
     "name": "stderr",
     "output_type": "stream",
     "text": [
      "100%|████████████████████████████████████████████| 7/7 [32:48<00:00, 281.15s/it]"
     ]
    },
    {
     "name": "stdout",
     "output_type": "stream",
     "text": [
      "enjoy your data\n"
     ]
    },
    {
     "name": "stderr",
     "output_type": "stream",
     "text": [
      "\n"
     ]
    }
   ],
   "source": [
    "k_list = [1,2,5,10,20,50,100]\n",
    "\n",
    "acc_list = []\n",
    "prec_list = []\n",
    "rec_list = []\n",
    "\n",
    "print(\"hey\")\n",
    "\n",
    "for k in k_list:\n",
    "    \n",
    "    print(\"k: \" + str(k))\n",
    "    \n",
    "    y_pred = predict(X_train, y_train, X_val, 0,  k, False)\n",
    "    y_pred = y_pred.reshape(len(y_pred), 1)\n",
    "    acc, prec, rec = metrics(y_pred, y_val)\n",
    "    \n",
    "    acc_list.append(acc)\n",
    "    prec_list.append(prec)\n",
    "    rec_list.append(rec)\n",
    "    \n",
    "print(\"enjoy your data\")"
   ]
  },
  {
   "cell_type": "markdown",
   "id": "3e76a617",
   "metadata": {},
   "source": [
    "## KNN con PCA"
   ]
  },
  {
   "cell_type": "code",
   "execution_count": 46,
   "id": "94c947b3",
   "metadata": {},
   "outputs": [
    {
     "name": "stdout",
     "output_type": "stream",
     "text": [
      "hey\n",
      "k: 1 alpha: 1\n",
      "k: 1 alpha: 5\n",
      "k: 1 alpha: 10\n",
      "k: 1 alpha: 50\n",
      "k: 1 alpha: 100\n",
      "k: 2 alpha: 1\n",
      "k: 2 alpha: 5\n",
      "k: 2 alpha: 10\n",
      "k: 2 alpha: 50\n",
      "k: 2 alpha: 100\n",
      "k: 5 alpha: 1\n",
      "k: 5 alpha: 5\n",
      "k: 5 alpha: 10\n",
      "k: 5 alpha: 50\n",
      "k: 5 alpha: 100\n",
      "k: 10 alpha: 1\n",
      "k: 10 alpha: 5\n",
      "k: 10 alpha: 10\n",
      "k: 10 alpha: 50\n",
      "k: 10 alpha: 100\n",
      "k: 20 alpha: 1\n",
      "k: 20 alpha: 5\n",
      "k: 20 alpha: 10\n",
      "k: 20 alpha: 50\n",
      "k: 20 alpha: 100\n",
      "k: 50 alpha: 1\n",
      "k: 50 alpha: 5\n",
      "k: 50 alpha: 10\n",
      "k: 50 alpha: 50\n",
      "k: 50 alpha: 100\n",
      "k: 100 alpha: 1\n",
      "k: 100 alpha: 5\n",
      "k: 100 alpha: 10\n",
      "k: 100 alpha: 50\n",
      "k: 100 alpha: 100\n",
      "enjoy your data\n"
     ]
    }
   ],
   "source": [
    "k_list = [1,2,5,10,20,50,100]\n",
    "alpha_list = [1,5,10,50,100]\n",
    "\n",
    "acc_list_pca = []\n",
    "prec_list_pca = []\n",
    "rec_list_pca = []\n",
    "\n",
    "print(\"hey\")\n",
    "\n",
    "for k in k_list:\n",
    "    \n",
    "    for alpha in alpha_list:\n",
    "        \n",
    "        print(\"k: \" + str(k) + \" alpha: \" + str(alpha))\n",
    "    \n",
    "        y_pred = predict(X_train, y_train, X_val, alpha,  k, True)\n",
    "        y_pred = y_pred.reshape(len(y_pred), 1)\n",
    "        acc, prec, rec = metrics(y_pred, y_val)\n",
    "        \n",
    "        acc_list_pca.append(acc)\n",
    "        prec_list_pca.append(prec)\n",
    "        rec_list_pca.append(rec)\n",
    "\n",
    "print(\"enjoy your data\")"
   ]
  },
  {
   "cell_type": "code",
   "execution_count": 47,
   "id": "cc8d5038",
   "metadata": {},
   "outputs": [],
   "source": [
    "acc_list_pca = np.array(acc_list_pca)\n",
    "prec_list_pca = np.array(prec_list_pca)\n",
    "rec_list_pca = np.array(rec_list_pca)"
   ]
  },
  {
   "cell_type": "markdown",
   "id": "665edd47",
   "metadata": {},
   "source": [
    "## Data analisys"
   ]
  },
  {
   "cell_type": "code",
   "execution_count": 2,
   "id": "f9b7cdf8",
   "metadata": {},
   "outputs": [],
   "source": [
    "import json"
   ]
  },
  {
   "cell_type": "code",
   "execution_count": 54,
   "id": "35ddfb73",
   "metadata": {},
   "outputs": [],
   "source": [
    "# Guardar datos en archivo\n",
    "\n",
    "data = {\n",
    "    \"k_list\": list(k_list),\n",
    "    \"alpha_list\": list(alpha_list),\n",
    "    \"acc_list\": list(acc_list),\n",
    "    \"prec_list\": list(prec_list),\n",
    "    \"rec_list\": list(rec_list),\n",
    "    \"acc_list_pca\": list(acc_list_pca),\n",
    "    \"prec_list_pca\": list(prec_list_pca),\n",
    "    \"rec_list_pca\": list(rec_list_pca)\n",
    "}\n",
    "\n",
    "with open('data.txt', 'w') as outfile:\n",
    "    json.dump(data, outfile)"
   ]
  },
  {
   "cell_type": "code",
   "execution_count": 6,
   "id": "a2f0c133",
   "metadata": {},
   "outputs": [],
   "source": [
    "# Leer datos de archivo\n",
    "\n",
    "with open('data.txt') as json_file:\n",
    "    data = json.load(json_file)"
   ]
  },
  {
   "cell_type": "code",
   "execution_count": 13,
   "id": "8c468500",
   "metadata": {},
   "outputs": [],
   "source": [
    "#Asigno datos lectura de archivos\n",
    "\n",
    "k_list = np.array(data[\"k_list\"])\n",
    "alpha_list = np.array(data[\"alpha_list\"])\n",
    "acc_list = np.array(data[\"acc_list\"])\n",
    "prec_list = np.array(data[\"prec_list\"])\n",
    "rec_list = np.array(data[\"rec_list\"])\n",
    "acc_list_pca = np.array(data[\"prec_list_pca\"])\n",
    "prec_list_pca = np.array(data[\"prec_list_pca\"])\n",
    "rec_list_pca = np.array(data[\"rec_list_pca\"])"
   ]
  },
  {
   "cell_type": "code",
   "execution_count": 48,
   "id": "8ef0a267",
   "metadata": {},
   "outputs": [
    {
     "data": {
      "image/png": "[encoded data removed]",
      "text/plain": [
       "<Figure size 576x360 with 1 Axes>"
      ]
     },
     "metadata": {
      "needs_background": "light"
     },
     "output_type": "display_data"
    }
   ],
   "source": [
    "plt.figure(figsize = (8,5))\n",
    "\n",
    "rec = plt.bar( [\"1\",\"2\",\"5\",\"10\",\"20\",\"50\",\"100\"], list(map(lambda x: round(x,3),acc_list)))\n",
    "plt.title(\"Accuracy por cantidad de vecinos\", fontsize = 20)\n",
    "plt.bar_label(rec, padding = 3, fontsize = 15)\n",
    "plt.ylabel(\"accuracy\", fontsize = 18)\n",
    "plt.xlabel(\"K vecinos\", fontsize = 18)\n",
    "plt.ylim(0,1.2)\n",
    "plt.xticks(fontsize = 15)\n",
    "plt.yticks(fontsize = 15)\n",
    "plt.show()"
   ]
  },
  {
   "cell_type": "code",
   "execution_count": 49,
   "id": "2bf639b6",
   "metadata": {},
   "outputs": [
    {
     "data": {
      "image/png": "[encoded data removed]",
      "text/plain": [
       "<Figure size 576x360 with 1 Axes>"
      ]
     },
     "metadata": {
      "needs_background": "light"
     },
     "output_type": "display_data"
    }
   ],
   "source": [
    "plt.figure(figsize = (8,5))\n",
    "\n",
    "rec = plt.bar( [\"1\",\"2\",\"5\",\"10\",\"20\",\"50\",\"100\"], list(map(lambda x: round(x,3),prec_list)))\n",
    "plt.title(\"Precision por cantidad de vecinos\", fontsize = 20)\n",
    "plt.bar_label(rec, padding = 3, fontsize = 15)\n",
    "plt.ylabel(\"precision\", fontsize = 18)\n",
    "plt.xlabel(\"K vecinos\", fontsize = 18)\n",
    "plt.ylim(0,1.2)\n",
    "plt.xticks(fontsize = 15)\n",
    "plt.yticks(fontsize = 15)\n",
    "plt.show()"
   ]
  },
  {
   "cell_type": "code",
   "execution_count": 50,
   "id": "1b41fa74",
   "metadata": {},
   "outputs": [
    {
     "data": {
      "image/png": "[encoded data removed]",
      "text/plain": [
       "<Figure size 576x360 with 1 Axes>"
      ]
     },
     "metadata": {
      "needs_background": "light"
     },
     "output_type": "display_data"
    }
   ],
   "source": [
    "plt.figure(figsize = (8,5))\n",
    "\n",
    "rec = plt.bar( [\"1\",\"2\",\"5\",\"10\",\"20\",\"50\",\"100\"], list(map(lambda x: round(x,3),rec_list)))\n",
    "plt.title(\"Recall por cantidad de vecinos\", fontsize = 20)\n",
    "plt.bar_label(rec, padding = 3, fontsize = 15)\n",
    "plt.ylabel(\"prn\", fontsize = 18)\n",
    "plt.xlabel(\"K vecinos\", fontsize = 18)\n",
    "plt.ylim(0,1.2)\n",
    "plt.xticks(fontsize = 15)\n",
    "plt.yticks(fontsize = 15)\n",
    "plt.show()"
   ]
  },
  {
   "cell_type": "code",
   "execution_count": null,
   "id": "3a257b5c",
   "metadata": {},
   "outputs": [],
   "source": []
  }
 ],
 "metadata": {
  "kernelspec": {
   "display_name": "Python 3 (ipykernel)",
   "language": "python",
   "name": "python3"
  },
  "language_info": {
   "codemirror_mode": {
    "name": "ipython",
    "version": 3
   },
   "file_extension": ".py",
   "mimetype": "text/x-python",
   "name": "python",
   "nbconvert_exporter": "python",
   "pygments_lexer": "ipython3",
   "version": "3.8.10"
  }
 },
 "nbformat": 4,
 "nbformat_minor": 5
}
