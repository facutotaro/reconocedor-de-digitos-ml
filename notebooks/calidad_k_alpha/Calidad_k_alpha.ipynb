{
 "cells": [
  {
   "cell_type": "markdown",
   "id": "edf986f6",
   "metadata": {},
   "source": [
    "# Calidad de resultados segun k y alpha"
   ]
  },
  {
   "cell_type": "markdown",
   "id": "daa1adcb",
   "metadata": {},
   "source": [
    "## Pre - Experimentacion"
   ]
  },
  {
   "cell_type": "code",
   "execution_count": 1,
   "id": "579ee79b",
   "metadata": {},
   "outputs": [
    {
     "name": "stdout",
     "output_type": "stream",
     "text": [
      "mkdir: cannot create directory ‘build’: File exists\n",
      "-- The C compiler identification is GNU 9.3.0\n",
      "-- The CXX compiler identification is GNU 9.3.0\n",
      "-- Check for working C compiler: /usr/bin/cc\n",
      "-- Check for working C compiler: /usr/bin/cc -- works\n",
      "-- Detecting C compiler ABI info\n",
      "-- Detecting C compiler ABI info - done\n",
      "-- Detecting C compile features\n",
      "-- Detecting C compile features - done\n",
      "-- Check for working CXX compiler: /usr/bin/c++\n",
      "-- Check for working CXX compiler: /usr/bin/c++ -- works\n",
      "-- Detecting CXX compiler ABI info\n",
      "-- Detecting CXX compiler ABI info - done\n",
      "-- Detecting CXX compile features\n",
      "-- Detecting CXX compile features - done\n",
      "Release mode\n",
      "-- Found PythonInterp: /home/lucas/.virtualenvs/metnum_tp2/bin/python (found version \"3.8.10\") \n",
      "-- Found PythonLibs: /usr/lib/x86_64-linux-gnu/libpython3.8.so\n",
      "-- pybind11 v2.2.4\n",
      "-- Performing Test HAS_FLTO\n",
      "-- Performing Test HAS_FLTO - Success\n",
      "-- LTO enabled\n",
      "CMAKE_INSTALL_PREFIX=/home/lucas/Desktop/MetNum/TP/TP2/metnum_tp2\n",
      "-- Configuring done\n",
      "-- Generating done\n",
      "-- Build files have been written to: /home/lucas/Desktop/MetNum/TP/TP2/metnum_tp2/build\n",
      "\u001b[35m\u001b[1mScanning dependencies of target tp2\u001b[0m\n",
      "[ 10%] \u001b[32mBuilding CXX object CMakeFiles/tp2.dir/src/main.cpp.o\u001b[0m\n",
      "[ 20%] \u001b[32mBuilding CXX object CMakeFiles/tp2.dir/src/knn.cpp.o\u001b[0m\n",
      "[ 30%] \u001b[32mBuilding CXX object CMakeFiles/tp2.dir/src/pca.cpp.o\u001b[0m\n",
      "[ 40%] \u001b[32mBuilding CXX object CMakeFiles/tp2.dir/src/eigen.cpp.o\u001b[0m\n",
      "[ 50%] \u001b[32m\u001b[1mLinking CXX executable tp2\u001b[0m\n",
      "[ 50%] Built target tp2\n",
      "\u001b[35m\u001b[1mScanning dependencies of target metnum\u001b[0m\n",
      "[ 60%] \u001b[32mBuilding CXX object CMakeFiles/metnum.dir/src/metnum.cpp.o\u001b[0m\n",
      "[ 70%] \u001b[32mBuilding CXX object CMakeFiles/metnum.dir/src/knn.cpp.o\u001b[0m\n",
      "[ 80%] \u001b[32mBuilding CXX object CMakeFiles/metnum.dir/src/pca.cpp.o\u001b[0m\n",
      "[ 90%] \u001b[32mBuilding CXX object CMakeFiles/metnum.dir/src/eigen.cpp.o\u001b[0m\n",
      "[100%] \u001b[32m\u001b[1mLinking CXX shared module metnum.cpython-38-x86_64-linux-gnu.so\u001b[0m\n",
      "[100%] Built target metnum\n",
      "\u001b[36mInstall the project...\u001b[0m\n",
      "-- Install configuration: \"Release\"\n",
      "-- Installing: /home/lucas/Desktop/MetNum/TP/TP2/metnum_tp2/notebooks/metnum.cpython-38-x86_64-linux-gnu.so\n"
     ]
    }
   ],
   "source": [
    "# make cpp libraries\n",
    "!cd ../../ && mkdir build\n",
    "!cd ../../build/ && rm -rf *\n",
    "!cd ../../build && cmake \\\n",
    "  -DPYTHON_EXECUTABLE=\"$(which python)\" \\\n",
    "  -DCMAKE_BUILD_TYPE=Release ..\n",
    "!cd ../../build && make install"
   ]
  },
  {
   "cell_type": "code",
   "execution_count": 2,
   "id": "f544da4a",
   "metadata": {},
   "outputs": [
    {
     "name": "stdout",
     "output_type": "stream",
     "text": [
      "/home/lucas/Desktop/MetNum/TP/TP2/metnum_tp2/notebooks/calidad_k_alpha\n",
      "Python 3.8.10\n"
     ]
    }
   ],
   "source": [
    "# verifico version de python e importo metnum\n",
    "!pwd\n",
    "!python --version\n",
    "\n",
    "import sys\n",
    "import os\n",
    "\n",
    "p = os.path.abspath('../')\n",
    "sys.path.insert(1, p)\n",
    "\n",
    "import metnum"
   ]
  },
  {
   "cell_type": "code",
   "execution_count": 3,
   "id": "1737373f",
   "metadata": {},
   "outputs": [],
   "source": [
    "#funcion general del modelo\n",
    "def predict(X_train, y_train, X_val, alpha, k, con_pca):\n",
    "    \n",
    "    clf = metnum.KNNClassifier(k)\n",
    "    \n",
    "    if con_pca:\n",
    "        \n",
    "        pca = metnum.PCA(alpha)\n",
    "        pca.fit(X_train)\n",
    "        \n",
    "        X_train = pca.transform(X_train)\n",
    "        X_val = pca.transform(X_val)\n",
    "        \n",
    "    print(\"prefit\")\n",
    "    clf.fit(X_train, y_train)\n",
    "    print(\"post fit\")\n",
    "    y_pred = clf.predict(X_val)\n",
    "    print(\"post predict\")\n",
    "    \n",
    "    return y_pred"
   ]
  },
  {
   "cell_type": "code",
   "execution_count": 4,
   "id": "bf69db1b",
   "metadata": {},
   "outputs": [],
   "source": [
    "import numpy as np\n",
    "\n",
    "def k_folds(X,y, folds):\n",
    "    \n",
    "    fold_size = int(X.shape[0]/folds)\n",
    "    \n",
    "    X_folds = []\n",
    "    y_folds = []\n",
    "    \n",
    "    for i in range(folds):\n",
    "        \n",
    "        if (i + 1)*fold_size < X.shape[0]: limit = (i + 1)*fold_size\n",
    "        else: limit = X.shape[0]\n",
    "        \n",
    "        X_folds.append(X[i*fold_size:limit])\n",
    "        y_folds.append(y[i*fold_size:limit])\n",
    "        \n",
    "    return X_folds, y_folds\n",
    "\n",
    "def join_folds(X_list, y_list):\n",
    "    \n",
    "    X_join = X_list[0]\n",
    "    y_join = y_list[0]\n",
    "    \n",
    "    for i in range(1,len(X_list)):\n",
    "    \n",
    "        X_join = np.append(X_join, X_list[i], axis = 0)\n",
    "        y_join = np.append(y_join, y_list[i], axis = 0)\n",
    "        \n",
    "    return X_join, y_join"
   ]
  },
  {
   "cell_type": "code",
   "execution_count": 5,
   "id": "15fb54e8",
   "metadata": {},
   "outputs": [],
   "source": [
    "# metrics\n",
    "\n",
    "def compare_value(y_predict, y_val, i):\n",
    "    \n",
    "    tp, tn, fp, fn = 0, 0, 0, 0\n",
    "    \n",
    "    for j in range(len(y_val)):\n",
    "        \n",
    "        if y_val[j][0] == i:\n",
    "            if y_predict[j][0] == i: tp+=1\n",
    "            else: fn += 1\n",
    "        else:\n",
    "            if y_predict[j][0] == i: fp += 1\n",
    "            else: tn += 1\n",
    "\n",
    "    return tp, tn, fp, fn\n",
    "            \n",
    "def metrics_value(y_pred, y_val, i):\n",
    "    \n",
    "    tp, tn, fp, fn = compare_value(y_pred, y_val, i)\n",
    "    \n",
    "    acc = (tp + tn)/(tp + tn + fp + fn)\n",
    "    prec = tp/(tp + fp)\n",
    "    rec = tp/(tp + fn)\n",
    "    \n",
    "    return acc, prec, rec\n",
    "\n",
    "def metrics(y_pred, y_val):\n",
    "    \n",
    "    acc_sum = 0\n",
    "    prec_sum = 0\n",
    "    rec_sum = 0\n",
    "    \n",
    "    for i in range(10):\n",
    "        \n",
    "        acc, prec, rec = metrics_value(y_pred, y_val, i)\n",
    "        \n",
    "        acc_sum += acc\n",
    "        prec_sum += prec\n",
    "        rec_sum += rec\n",
    "        \n",
    "    return acc_sum/10, prec_sum/10, rec_sum/10"
   ]
  },
  {
   "cell_type": "code",
   "execution_count": 6,
   "id": "b05378e4",
   "metadata": {},
   "outputs": [],
   "source": [
    "# Extraigo data set MNIST\n",
    "%load_ext autoreload\n",
    "%autoreload 2\n",
    "\n",
    "import pandas as pd\n",
    "\n",
    "df_train = pd.read_csv(\"../../data/train.csv\")\n",
    "\n",
    "X = df_train[df_train.columns[1:]].values\n",
    "y = df_train[\"label\"].values.reshape(-1, 1)\n",
    "\n",
    "np.random.shuffle(X)\n",
    "np.random.shuffle(y)"
   ]
  },
  {
   "cell_type": "markdown",
   "id": "01383156",
   "metadata": {},
   "source": [
    "## KNN (sin PCA)"
   ]
  },
  {
   "cell_type": "code",
   "execution_count": 7,
   "id": "5d3dce96",
   "metadata": {},
   "outputs": [],
   "source": [
    "#Particiono los datos\n",
    "X_folds, y_folds = k_folds(X,y,5)\n",
    "X_train, y_train = join_folds(X_folds[0:4], y_folds[0:4])\n",
    "X_val, y_val = X_folds[-1], y_folds[-1]"
   ]
  },
  {
   "cell_type": "code",
   "execution_count": 8,
   "id": "4e7dd833",
   "metadata": {},
   "outputs": [
    {
     "name": "stdout",
     "output_type": "stream",
     "text": [
      "hey\n"
     ]
    },
    {
     "name": "stderr",
     "output_type": "stream",
     "text": [
      "\r",
      "  0%|                                                     | 0/7 [00:00<?, ?it/s]"
     ]
    },
    {
     "name": "stdout",
     "output_type": "stream",
     "text": [
      "we are in\n",
      "prefit\n",
      "post fit\n"
     ]
    },
    {
     "name": "stderr",
     "output_type": "stream",
     "text": [
      "\r",
      " 14%|██████▎                                     | 1/7 [04:13<25:20, 253.44s/it]"
     ]
    },
    {
     "name": "stdout",
     "output_type": "stream",
     "text": [
      "post predict\n",
      "we have metrics\n",
      "here\n",
      "we are in\n",
      "prefit\n",
      "post fit\n"
     ]
    },
    {
     "name": "stderr",
     "output_type": "stream",
     "text": [
      "\r",
      " 29%|████████████▌                               | 2/7 [08:31<21:19, 255.94s/it]"
     ]
    },
    {
     "name": "stdout",
     "output_type": "stream",
     "text": [
      "post predict\n",
      "we have metrics\n",
      "here\n",
      "we are in\n",
      "prefit\n",
      "post fit\n"
     ]
    },
    {
     "name": "stderr",
     "output_type": "stream",
     "text": [
      "\r",
      " 43%|██████████████████▊                         | 3/7 [12:32<16:38, 249.51s/it]"
     ]
    },
    {
     "name": "stdout",
     "output_type": "stream",
     "text": [
      "post predict\n",
      "we have metrics\n",
      "here\n",
      "we are in\n",
      "prefit\n",
      "post fit\n"
     ]
    },
    {
     "name": "stderr",
     "output_type": "stream",
     "text": [
      "\r",
      " 57%|█████████████████████████▏                  | 4/7 [16:41<12:27, 249.17s/it]"
     ]
    },
    {
     "name": "stdout",
     "output_type": "stream",
     "text": [
      "post predict\n",
      "we have metrics\n",
      "here\n",
      "we are in\n",
      "prefit\n",
      "post fit\n"
     ]
    },
    {
     "name": "stderr",
     "output_type": "stream",
     "text": [
      "\r",
      " 71%|███████████████████████████████▍            | 5/7 [21:11<08:33, 256.80s/it]"
     ]
    },
    {
     "name": "stdout",
     "output_type": "stream",
     "text": [
      "post predict\n",
      "we have metrics\n",
      "here\n",
      "we are in\n",
      "prefit\n",
      "post fit\n"
     ]
    },
    {
     "name": "stderr",
     "output_type": "stream",
     "text": [
      "\r",
      " 86%|█████████████████████████████████████▋      | 6/7 [26:21<04:34, 274.74s/it]"
     ]
    },
    {
     "name": "stdout",
     "output_type": "stream",
     "text": [
      "post predict\n",
      "we have metrics\n",
      "here\n",
      "we are in\n",
      "prefit\n",
      "post fit\n"
     ]
    },
    {
     "name": "stderr",
     "output_type": "stream",
     "text": [
      "100%|████████████████████████████████████████████| 7/7 [32:27<00:00, 278.21s/it]"
     ]
    },
    {
     "name": "stdout",
     "output_type": "stream",
     "text": [
      "post predict\n",
      "we have metrics\n",
      "here\n"
     ]
    },
    {
     "name": "stderr",
     "output_type": "stream",
     "text": [
      "\n"
     ]
    }
   ],
   "source": [
    "from tqdm import tqdm\n",
    "\n",
    "k_list = [1,2,5,10,20,50,100]\n",
    "\n",
    "acc_list = []\n",
    "prec_list = []\n",
    "rec_list = []\n",
    "\n",
    "print(\"hey\")\n",
    "\n",
    "for k in tqdm(k_list):\n",
    "    \n",
    "    print(\"we are in\")\n",
    "    y_pred = predict(X_train, y_train, X_val, 0,  k, False)\n",
    "    y_pred = y_pred.reshape(len(y_pred), 1)\n",
    "    acc, prec, rec = metrics(y_pred, y_val)\n",
    "    print(\"we have metrics\")\n",
    "    acc_list.append(acc)\n",
    "    prec_list.append(prec)\n",
    "    rec_list.append(rec)\n",
    "    \n",
    "    print(\"here\")"
   ]
  },
  {
   "cell_type": "code",
   "execution_count": 9,
   "id": "500b0222",
   "metadata": {},
   "outputs": [
    {
     "name": "stdout",
     "output_type": "stream",
     "text": [
      "[0.8209047619047618, 0.8213333333333332, 0.8213333333333335, 0.8209761904761905, 0.8211666666666666, 0.8202142857142857, 0.8213095238095238]\n",
      "[0.10421860772646852, 0.10310618718869999, 0.10532946123361697, 0.10244577543605549, 0.10352914064274914, 0.098331973973833, 0.1056042458074383]\n",
      "[0.10407535108582726, 0.10525130196271273, 0.10593957790034189, 0.10379177707663814, 0.10470034969665772, 0.09971455031759205, 0.10491767117873096]\n"
     ]
    }
   ],
   "source": [
    "print(acc_list)\n",
    "print(prec_list)\n",
    "print(rec_list)"
   ]
  },
  {
   "cell_type": "code",
   "execution_count": 15,
   "id": "c51264a4",
   "metadata": {},
   "outputs": [
    {
     "data": {
      "image/png": "[encoded data removed]",
      "text/plain": [
       "<Figure size 432x288 with 1 Axes>"
      ]
     },
     "metadata": {
      "needs_background": "light"
     },
     "output_type": "display_data"
    }
   ],
   "source": [
    "import matplotlib.pyplot as plt\n",
    "\n",
    "plt.plot(k_list, acc_list)\n",
    "plt.ylim(0,1)\n",
    "plt.show()"
   ]
  },
  {
   "cell_type": "code",
   "execution_count": 16,
   "id": "de94347b",
   "metadata": {},
   "outputs": [
    {
     "data": {
      "image/png": "[encoded data removed]",
      "text/plain": [
       "<Figure size 432x288 with 1 Axes>"
      ]
     },
     "metadata": {
      "needs_background": "light"
     },
     "output_type": "display_data"
    }
   ],
   "source": [
    "plt.plot(k_list, prec_list)\n",
    "plt.ylim(0,1)\n",
    "plt.show()"
   ]
  },
  {
   "cell_type": "code",
   "execution_count": 17,
   "id": "4c8af2ca",
   "metadata": {},
   "outputs": [
    {
     "data": {
      "image/png": "[encoded data removed]",
      "text/plain": [
       "<Figure size 432x288 with 1 Axes>"
      ]
     },
     "metadata": {
      "needs_background": "light"
     },
     "output_type": "display_data"
    }
   ],
   "source": [
    "plt.plot(k_list, rec_list)\n",
    "plt.ylim(0,1)\n",
    "plt.show()"
   ]
  },
  {
   "cell_type": "markdown",
   "id": "3e76a617",
   "metadata": {},
   "source": [
    "## KNN con PCA"
   ]
  },
  {
   "cell_type": "code",
   "execution_count": 10,
   "id": "94c947b3",
   "metadata": {},
   "outputs": [
    {
     "name": "stdout",
     "output_type": "stream",
     "text": [
      "hey\n"
     ]
    },
    {
     "name": "stderr",
     "output_type": "stream",
     "text": [
      "\r",
      "  0%|                                                     | 0/7 [00:00<?, ?it/s]"
     ]
    },
    {
     "name": "stdout",
     "output_type": "stream",
     "text": [
      "we are in\n",
      "prefit\n",
      "post fit\n",
      "post predict\n",
      "we have metrics\n",
      "here\n",
      "we are in\n",
      "prefit\n",
      "post fit\n",
      "post predict\n",
      "we have metrics\n",
      "here\n",
      "we are in\n",
      "prefit\n",
      "post fit\n",
      "post predict\n",
      "we have metrics\n",
      "here\n",
      "we are in\n",
      "prefit\n",
      "post fit\n",
      "post predict\n",
      "we have metrics\n",
      "here\n",
      "we are in\n",
      "prefit\n",
      "post fit\n"
     ]
    },
    {
     "name": "stderr",
     "output_type": "stream",
     "text": [
      "\r",
      " 14%|██████▎                                     | 1/7 [04:39<27:59, 279.96s/it]"
     ]
    },
    {
     "name": "stdout",
     "output_type": "stream",
     "text": [
      "post predict\n",
      "we have metrics\n",
      "here\n",
      "we are in\n",
      "prefit\n",
      "post fit\n",
      "post predict\n",
      "we have metrics\n",
      "here\n",
      "we are in\n",
      "prefit\n",
      "post fit\n",
      "post predict\n",
      "we have metrics\n",
      "here\n",
      "we are in\n",
      "prefit\n",
      "post fit\n",
      "post predict\n",
      "we have metrics\n",
      "here\n",
      "we are in\n",
      "prefit\n",
      "post fit\n",
      "post predict\n",
      "we have metrics\n",
      "here\n",
      "we are in\n",
      "prefit\n",
      "post fit\n"
     ]
    },
    {
     "name": "stderr",
     "output_type": "stream",
     "text": [
      "\r",
      " 29%|████████████▌                               | 2/7 [09:26<23:37, 283.59s/it]"
     ]
    },
    {
     "name": "stdout",
     "output_type": "stream",
     "text": [
      "post predict\n",
      "we have metrics\n",
      "here\n",
      "we are in\n",
      "prefit\n",
      "post fit\n",
      "post predict\n",
      "we have metrics\n",
      "here\n",
      "we are in\n",
      "prefit\n",
      "post fit\n",
      "post predict\n",
      "we have metrics\n",
      "here\n",
      "we are in\n",
      "prefit\n",
      "post fit\n",
      "post predict\n",
      "we have metrics\n",
      "here\n",
      "we are in\n",
      "prefit\n",
      "post fit\n",
      "post predict\n",
      "we have metrics\n",
      "here\n",
      "we are in\n",
      "prefit\n",
      "post fit\n"
     ]
    },
    {
     "name": "stderr",
     "output_type": "stream",
     "text": [
      "\r",
      " 43%|██████████████████▊                         | 3/7 [14:33<19:37, 294.32s/it]"
     ]
    },
    {
     "name": "stdout",
     "output_type": "stream",
     "text": [
      "post predict\n",
      "we have metrics\n",
      "here\n",
      "we are in\n",
      "prefit\n",
      "post fit\n",
      "post predict\n",
      "we have metrics\n",
      "here\n",
      "we are in\n",
      "prefit\n",
      "post fit\n",
      "post predict\n",
      "we have metrics\n",
      "here\n",
      "we are in\n",
      "prefit\n",
      "post fit\n",
      "post predict\n",
      "we have metrics\n",
      "here\n",
      "we are in\n",
      "prefit\n",
      "post fit\n",
      "post predict\n",
      "we have metrics\n",
      "here\n",
      "we are in\n",
      "prefit\n",
      "post fit\n"
     ]
    },
    {
     "name": "stderr",
     "output_type": "stream",
     "text": [
      "\r",
      " 57%|█████████████████████████▏                  | 4/7 [20:13<15:37, 312.50s/it]"
     ]
    },
    {
     "name": "stdout",
     "output_type": "stream",
     "text": [
      "post predict\n",
      "we have metrics\n",
      "here\n",
      "we are in\n",
      "prefit\n",
      "post fit\n",
      "post predict\n",
      "we have metrics\n",
      "here\n",
      "we are in\n",
      "prefit\n",
      "post fit\n",
      "post predict\n",
      "we have metrics\n",
      "here\n",
      "we are in\n",
      "prefit\n",
      "post fit\n",
      "post predict\n",
      "we have metrics\n",
      "here\n",
      "we are in\n",
      "prefit\n",
      "post fit\n",
      "post predict\n",
      "we have metrics\n",
      "here\n",
      "we are in\n",
      "prefit\n",
      "post fit\n"
     ]
    },
    {
     "name": "stderr",
     "output_type": "stream",
     "text": [
      "\r",
      " 71%|███████████████████████████████▍            | 5/7 [27:00<11:32, 346.45s/it]"
     ]
    },
    {
     "name": "stdout",
     "output_type": "stream",
     "text": [
      "post predict\n",
      "we have metrics\n",
      "here\n",
      "we are in\n",
      "prefit\n",
      "post fit\n",
      "post predict\n",
      "we have metrics\n",
      "here\n",
      "we are in\n",
      "prefit\n",
      "post fit\n",
      "post predict\n",
      "we have metrics\n",
      "here\n",
      "we are in\n",
      "prefit\n",
      "post fit\n",
      "post predict\n",
      "we have metrics\n",
      "here\n",
      "we are in\n",
      "prefit\n",
      "post fit\n",
      "post predict\n",
      "we have metrics\n",
      "here\n",
      "we are in\n",
      "prefit\n",
      "post fit\n"
     ]
    },
    {
     "name": "stderr",
     "output_type": "stream",
     "text": [
      "\r",
      " 86%|█████████████████████████████████████▋      | 6/7 [37:09<07:15, 435.73s/it]"
     ]
    },
    {
     "name": "stdout",
     "output_type": "stream",
     "text": [
      "post predict\n",
      "we have metrics\n",
      "here\n",
      "we are in\n",
      "prefit\n",
      "post fit\n",
      "post predict\n",
      "we have metrics\n",
      "here\n",
      "we are in\n",
      "prefit\n",
      "post fit\n",
      "post predict\n",
      "we have metrics\n",
      "here\n",
      "we are in\n",
      "prefit\n",
      "post fit\n",
      "post predict\n",
      "we have metrics\n",
      "here\n",
      "we are in\n",
      "prefit\n",
      "post fit\n",
      "post predict\n",
      "we have metrics\n",
      "here\n",
      "we are in\n",
      "prefit\n",
      "post fit\n"
     ]
    },
    {
     "name": "stderr",
     "output_type": "stream",
     "text": [
      "100%|████████████████████████████████████████████| 7/7 [52:49<00:00, 452.77s/it]"
     ]
    },
    {
     "name": "stdout",
     "output_type": "stream",
     "text": [
      "post predict\n",
      "we have metrics\n",
      "here\n"
     ]
    },
    {
     "name": "stderr",
     "output_type": "stream",
     "text": [
      "\n"
     ]
    }
   ],
   "source": [
    "k_list = [1,2,5,10,20,50,100]\n",
    "alpha_list = [1,5,10,50,100]\n",
    "\n",
    "acc_list_pca = []\n",
    "prec_list_pca = []\n",
    "rec_list_pca = []\n",
    "\n",
    "print(\"hey\")\n",
    "\n",
    "for k in tqdm(k_list):\n",
    "    \n",
    "    for alpha in alpha_list:\n",
    "    \n",
    "        print(\"we are in\")\n",
    "        y_pred = predict(X_train, y_train, X_val, alpha,  k, True)\n",
    "        y_pred = y_pred.reshape(len(y_pred), 1)\n",
    "        acc, prec, rec = metrics(y_pred, y_val)\n",
    "        print(\"we have metrics\")\n",
    "        acc_list_pca.append(acc)\n",
    "        prec_list_pca.append(prec)\n",
    "        rec_list_pca.append(rec)\n",
    "\n",
    "        print(\"here\")"
   ]
  },
  {
   "cell_type": "code",
   "execution_count": 19,
   "id": "cc8d5038",
   "metadata": {},
   "outputs": [],
   "source": [
    "acc_list_pca = np.array(acc_list_pca)\n",
    "prec_list_pca = np.array(prec_list_pca)\n",
    "rec_list_pca = np.array(rec_list_pca)"
   ]
  },
  {
   "cell_type": "code",
   "execution_count": 27,
   "id": "2eaab956",
   "metadata": {},
   "outputs": [
    {
     "data": {
      "image/png": "[encoded data removed]",
      "text/plain": [
       "<Figure size 432x288 with 2 Axes>"
      ]
     },
     "metadata": {
      "needs_background": "light"
     },
     "output_type": "display_data"
    }
   ],
   "source": [
    "plt.imshow(acc_list_pca.reshape(5,7), vmin = 0, vmax = 1)\n",
    "plt.colorbar()\n",
    "plt.show()"
   ]
  },
  {
   "cell_type": "code",
   "execution_count": 28,
   "id": "e9943f0f",
   "metadata": {},
   "outputs": [
    {
     "data": {
      "image/png": "[encoded data removed]",
      "text/plain": [
       "<Figure size 432x288 with 2 Axes>"
      ]
     },
     "metadata": {
      "needs_background": "light"
     },
     "output_type": "display_data"
    }
   ],
   "source": [
    "plt.imshow(prec_list_pca.reshape(5,7), vmin = 0, vmax = 1)\n",
    "plt.colorbar()\n",
    "plt.show()"
   ]
  },
  {
   "cell_type": "code",
   "execution_count": 29,
   "id": "3c660a66",
   "metadata": {},
   "outputs": [
    {
     "data": {
      "image/png": "[encoded data removed]",
      "text/plain": [
       "<Figure size 432x288 with 2 Axes>"
      ]
     },
     "metadata": {
      "needs_background": "light"
     },
     "output_type": "display_data"
    }
   ],
   "source": [
    "plt.imshow(rec_list_pca.reshape(5,7), vmin = 0, vmax = 1)\n",
    "plt.colorbar()\n",
    "plt.show()"
   ]
  },
  {
   "cell_type": "code",
   "execution_count": null,
   "id": "4c77ecac",
   "metadata": {},
   "outputs": [],
   "source": []
  }
 ],
 "metadata": {
  "kernelspec": {
   "display_name": "Python 3 (ipykernel)",
   "language": "python",
   "name": "python3"
  },
  "language_info": {
   "codemirror_mode": {
    "name": "ipython",
    "version": 3
   },
   "file_extension": ".py",
   "mimetype": "text/x-python",
   "name": "python",
   "nbconvert_exporter": "python",
   "pygments_lexer": "ipython3",
   "version": "3.8.10"
  }
 },
 "nbformat": 4,
 "nbformat_minor": 5
}
