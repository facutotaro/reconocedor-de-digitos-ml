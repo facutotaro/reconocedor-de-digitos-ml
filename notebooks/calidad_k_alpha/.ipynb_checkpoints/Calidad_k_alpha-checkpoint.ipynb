{
 "cells": [
  {
   "cell_type": "markdown",
   "id": "edf986f6",
   "metadata": {},
   "source": [
    "# Calidad de resultados segun k y alpha"
   ]
  },
  {
   "cell_type": "markdown",
   "id": "daa1adcb",
   "metadata": {},
   "source": [
    "## Pre - Experimentacion"
   ]
  },
  {
   "cell_type": "code",
   "execution_count": 1,
   "id": "579ee79b",
   "metadata": {},
   "outputs": [
    {
     "name": "stdout",
     "output_type": "stream",
     "text": [
      "mkdir: cannot create directory ‘build’: File exists\n",
      "-- The C compiler identification is GNU 9.3.0\n",
      "-- The CXX compiler identification is GNU 9.3.0\n",
      "-- Check for working C compiler: /usr/bin/cc\n",
      "-- Check for working C compiler: /usr/bin/cc -- works\n",
      "-- Detecting C compiler ABI info\n",
      "-- Detecting C compiler ABI info - done\n",
      "-- Detecting C compile features\n",
      "-- Detecting C compile features - done\n",
      "-- Check for working CXX compiler: /usr/bin/c++\n",
      "-- Check for working CXX compiler: /usr/bin/c++ -- works\n",
      "-- Detecting CXX compiler ABI info\n",
      "-- Detecting CXX compiler ABI info - done\n",
      "-- Detecting CXX compile features\n",
      "-- Detecting CXX compile features - done\n",
      "Release mode\n",
      "-- Found PythonInterp: /home/lucas/.virtualenvs/metnum_tp2/bin/python (found version \"3.8.10\") \n",
      "-- Found PythonLibs: /usr/lib/x86_64-linux-gnu/libpython3.8.so\n",
      "-- pybind11 v2.2.4\n",
      "-- Performing Test HAS_FLTO\n",
      "-- Performing Test HAS_FLTO - Success\n",
      "-- LTO enabled\n",
      "CMAKE_INSTALL_PREFIX=/home/lucas/Desktop/MetNum/TP/TP2/metnum_tp2\n",
      "-- Configuring done\n",
      "-- Generating done\n",
      "-- Build files have been written to: /home/lucas/Desktop/MetNum/TP/TP2/metnum_tp2/build\n",
      "\u001b[35m\u001b[1mScanning dependencies of target tp2\u001b[0m\n",
      "[ 10%] \u001b[32mBuilding CXX object CMakeFiles/tp2.dir/src/main.cpp.o\u001b[0m\n",
      "[ 20%] \u001b[32mBuilding CXX object CMakeFiles/tp2.dir/src/knn.cpp.o\u001b[0m\n",
      "[ 30%] \u001b[32mBuilding CXX object CMakeFiles/tp2.dir/src/pca.cpp.o\u001b[0m\n",
      "[ 40%] \u001b[32mBuilding CXX object CMakeFiles/tp2.dir/src/eigen.cpp.o\u001b[0m\n",
      "[ 50%] \u001b[32m\u001b[1mLinking CXX executable tp2\u001b[0m\n",
      "[ 50%] Built target tp2\n",
      "\u001b[35m\u001b[1mScanning dependencies of target metnum\u001b[0m\n",
      "[ 60%] \u001b[32mBuilding CXX object CMakeFiles/metnum.dir/src/metnum.cpp.o\u001b[0m\n",
      "[ 70%] \u001b[32mBuilding CXX object CMakeFiles/metnum.dir/src/knn.cpp.o\u001b[0m\n",
      "[ 80%] \u001b[32mBuilding CXX object CMakeFiles/metnum.dir/src/pca.cpp.o\u001b[0m\n",
      "[ 90%] \u001b[32mBuilding CXX object CMakeFiles/metnum.dir/src/eigen.cpp.o\u001b[0m\n",
      "[100%] \u001b[32m\u001b[1mLinking CXX shared module metnum.cpython-38-x86_64-linux-gnu.so\u001b[0m\n",
      "[100%] Built target metnum\n",
      "\u001b[36mInstall the project...\u001b[0m\n",
      "-- Install configuration: \"Release\"\n",
      "-- Installing: /home/lucas/Desktop/MetNum/TP/TP2/metnum_tp2/notebooks/metnum.cpython-38-x86_64-linux-gnu.so\n"
     ]
    }
   ],
   "source": [
    "# make cpp libraries\n",
    "!cd ../../ && mkdir build\n",
    "!cd ../../build/ && rm -rf *\n",
    "!cd ../../build && cmake \\\n",
    "  -DPYTHON_EXECUTABLE=\"$(which python)\" \\\n",
    "  -DCMAKE_BUILD_TYPE=Release ..\n",
    "!cd ../../build && make install"
   ]
  },
  {
   "cell_type": "code",
   "execution_count": 2,
   "id": "f544da4a",
   "metadata": {},
   "outputs": [
    {
     "name": "stdout",
     "output_type": "stream",
     "text": [
      "/home/lucas/Desktop/MetNum/TP/TP2/metnum_tp2/notebooks/calidad_k_alpha\n",
      "Python 3.8.10\n"
     ]
    }
   ],
   "source": [
    "# verifico version de python e importo metnum\n",
    "!pwd\n",
    "!python --version\n",
    "\n",
    "import sys\n",
    "import os\n",
    "\n",
    "p = os.path.abspath('../')\n",
    "sys.path.insert(1, p)\n",
    "\n",
    "import metnum"
   ]
  },
  {
   "cell_type": "code",
   "execution_count": 3,
   "id": "d3e4225b",
   "metadata": {},
   "outputs": [],
   "source": [
    "#funcion general del modelo\n",
    "def predict(X_train, y_train, X_val, alpha, k, con_pca):\n",
    "    \n",
    "    clf = metnum.KNNClassifier(k)\n",
    "    \n",
    "    if con_pca:\n",
    "        \n",
    "        pca = metnum.PCA(alpha)\n",
    "        pca.fit(X_train)\n",
    "        \n",
    "        X_train = pca.transform(X_train)\n",
    "        X_val = pca.transform(X_val)\n",
    "        \n",
    "    clf.fit(X_train, y_train)\n",
    "    y_pred = clf.predict(X_val)\n",
    "    \n",
    "    return y_pred"
   ]
  },
  {
   "cell_type": "code",
   "execution_count": 54,
   "id": "4dbcf19c",
   "metadata": {},
   "outputs": [],
   "source": [
    "import numpy as np\n",
    "\n",
    "def k_folds(X,y, folds):\n",
    "    \n",
    "    fold_size = int(X.shape[0]/folds)\n",
    "    \n",
    "    X_folds = []\n",
    "    y_folds = []\n",
    "    \n",
    "    for i in range(folds):\n",
    "        \n",
    "        if (i + 1)*fold_size < X.shape[0]: limit = (i + 1)*fold_size\n",
    "        else: limit = X.shape[0]\n",
    "        \n",
    "        X_folds.append(X[i*fold_size:limit])\n",
    "        y_folds.append(y[i*fold_size:limit])\n",
    "        \n",
    "    return X_folds, y_folds\n",
    "\n",
    "def join_folds(X_list, y_list):\n",
    "    \n",
    "    X_join = X_list[0]\n",
    "    y_join = y_list[0]\n",
    "    \n",
    "    for i in range(1,len(X_list)):\n",
    "    \n",
    "        X_join = np.append(X_join, X_folds[i], axis = 0)\n",
    "        y_join = np.append(y_join, y_folds[i], axis = 0)\n",
    "        \n",
    "    return X_join, y_folds"
   ]
  },
  {
   "cell_type": "code",
   "execution_count": null,
   "id": "a9bf8d6b",
   "metadata": {},
   "outputs": [],
   "source": [
    "# metrics\n",
    "\n",
    "def compare_value(y_pre, y_val, i):\n",
    "    \n",
    "    tp, tn, fp, fn = 0, 0, 0, 0\n",
    "    \n",
    "    if y_val == i:\n",
    "        if y_pred == i: tp+=1\n",
    "        else: fn += 1\n",
    "    else:\n",
    "        if y_pred == i: fp += 1\n",
    "        else: tn += 1\n",
    "\n",
    "    return tp, tn, fp, fn\n",
    "            \n",
    "def metric_value(y_pred, y_val, i):\n",
    "    \n",
    "    tp, tn, fp, fn = compare_value(y_pred, y_val, i)\n",
    "    \n",
    "    acc = tp + tn/(tp + tn + tp + tn)\n",
    "    prec = tp/(tp + fp)\n",
    "    rec = tp/(tp + fn)"
   ]
  },
  {
   "cell_type": "code",
   "execution_count": 55,
   "id": "19b0f070",
   "metadata": {},
   "outputs": [
    {
     "name": "stdout",
     "output_type": "stream",
     "text": [
      "The autoreload extension is already loaded. To reload it, use:\n",
      "  %reload_ext autoreload\n"
     ]
    }
   ],
   "source": [
    "# Extraigo data set MNIST\n",
    "%load_ext autoreload\n",
    "%autoreload 2\n",
    "\n",
    "import pandas as pd\n",
    "\n",
    "df_train = pd.read_csv(\"../../data/train.csv\")\n",
    "\n",
    "X = df_train[df_train.columns[1:]].values\n",
    "y = df_train[\"label\"].values.reshape(-1, 1)\n",
    "\n",
    "np.random.shuffle(X)\n",
    "np.random.shuffle(y)"
   ]
  },
  {
   "cell_type": "markdown",
   "id": "01383156",
   "metadata": {},
   "source": [
    "## KNN (sin PCA)"
   ]
  },
  {
   "cell_type": "code",
   "execution_count": 56,
   "id": "170fe6e8",
   "metadata": {},
   "outputs": [],
   "source": [
    "#Particiono los datos\n",
    "X_folds, y_folds = k_folds(X,y,5)\n",
    "X_train, y_train = join_folds(X_folds[0:4], y_folds[0:4])\n",
    "X_val, y_val = X_folds[-1], y_folds[-1]"
   ]
  },
  {
   "cell_type": "code",
   "execution_count": null,
   "id": "df70108c",
   "metadata": {},
   "outputs": [],
   "source": [
    "k_list = [1,2,5,10,20,50,100,200,500,1000]\n",
    "\n",
    "acc_list = []\n",
    "prec_list = []\n",
    "rec_list = []\n",
    "\n",
    "for k in k_list:\n",
    "    \n",
    "    y_pred = predict(X_train, y_train, X_val, 0,  k, False)\n",
    "    y_pred_list.append(y_pred)"
   ]
  },
  {
   "cell_type": "code",
   "execution_count": null,
   "id": "cf96e100",
   "metadata": {},
   "outputs": [],
   "source": []
  }
 ],
 "metadata": {
  "kernelspec": {
   "display_name": "Python 3 (ipykernel)",
   "language": "python",
   "name": "python3"
  },
  "language_info": {
   "codemirror_mode": {
    "name": "ipython",
    "version": 3
   },
   "file_extension": ".py",
   "mimetype": "text/x-python",
   "name": "python",
   "nbconvert_exporter": "python",
   "pygments_lexer": "ipython3",
   "version": "3.8.10"
  }
 },
 "nbformat": 4,
 "nbformat_minor": 5
}
